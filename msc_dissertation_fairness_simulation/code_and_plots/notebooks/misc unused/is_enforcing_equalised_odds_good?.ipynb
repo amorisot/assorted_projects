{
 "cells": [
  {
   "cell_type": "code",
   "execution_count": 1,
   "metadata": {
    "collapsed": true
   },
   "outputs": [],
   "source": [
    "#import necessary packages\n",
    "import numpy as np\n",
    "import pandas as pd\n",
    "import matplotlib.pyplot as plt\n",
    "import seaborn as sns\n",
    "import time\n",
    "from scipy.optimize import minimize\n"
   ]
  },
  {
   "cell_type": "markdown",
   "metadata": {},
   "source": [
    "# Create populations"
   ]
  },
  {
   "cell_type": "code",
   "execution_count": 2,
   "metadata": {
    "collapsed": true
   },
   "outputs": [],
   "source": [
    "#population parameters\n",
    "population_size = 1000\n",
    "mu_blue = 50\n",
    "mu_orange = 60\n",
    "\n",
    "#create populations\n",
    "blues1 = np.random.normal(mu_blue, 5, (int(population_size/5)*3,1))\n",
    "blues2 = np.random.normal(mu_blue+20, 5, (int(population_size/5)*2,1))\n",
    "blues = np.concatenate((blues1, blues2), axis=0)\n",
    "oranges1 = np.random.normal(mu_orange, 5, (int(population_size/5)*2,1))\n",
    "oranges2 = np.random.normal(mu_orange+20, 5, (int(population_size/5)*3,1))\n",
    "oranges = np.concatenate((oranges1, oranges2), axis=0)\n",
    "\n",
    "#determine who defaulted\n",
    "blues_who_defaulted = blues < np.random.uniform(0, 100, (population_size,1))\n",
    "oranges_who_defaulted = oranges < np.random.uniform(0, 100, (population_size,1))"
   ]
  },
  {
   "cell_type": "markdown",
   "metadata": {},
   "source": [
    "# Plot populations"
   ]
  },
  {
   "cell_type": "code",
   "execution_count": 3,
   "metadata": {},
   "outputs": [
    {
     "data": {
      "image/png": "[encoded data removed]",
      "text/plain": [
       "<matplotlib.figure.Figure at 0x1135c6898>"
      ]
     },
     "metadata": {},
     "output_type": "display_data"
    }
   ],
   "source": [
    "plt.subplot(121)\n",
    "plt.hist(oranges, bins=25, color=\"orange\")\n",
    "plt.xlabel(\"credit score\")\n",
    "plt.title(\"orange population\")\n",
    "plt.subplot(122)\n",
    "plt.hist(blues, bins=25, color=\"b\")\n",
    "plt.xlabel(\"credit score\")\n",
    "plt.title(\"blue population\")\n",
    "plt.show()"
   ]
  },
  {
   "cell_type": "code",
   "execution_count": 4,
   "metadata": {
    "scrolled": false
   },
   "outputs": [
    {
     "data": {
      "image/png": "[encoded data removed]",
      "text/plain": [
       "<matplotlib.figure.Figure at 0x113694978>"
      ]
     },
     "metadata": {},
     "output_type": "display_data"
    }
   ],
   "source": [
    "plt.subplot(121)\n",
    "plt.hist([oranges[np.logical_not(oranges_who_defaulted)],oranges[oranges_who_defaulted]], \n",
    "         stacked=True, bins=20, color=(\"#ff9900\", \"#ffd782\"))\n",
    "plt.legend((\"pays back\", \"defaults\"))\n",
    "plt.title(\"orange population\")\n",
    "plt.xlabel(\"credit score\")\n",
    "plt.subplot(122)\n",
    "plt.hist([blues[np.logical_not(blues_who_defaulted)],blues[blues_who_defaulted]], \n",
    "         stacked=True, bins=20, color=(\"#0021ff\", \"#41cdf4\"))\n",
    "plt.legend((\"pays back\", \"defaults\"))\n",
    "plt.title(\"blue population\")\n",
    "plt.xlabel(\"credit score\")\n",
    "plt.show()"
   ]
  },
  {
   "cell_type": "markdown",
   "metadata": {},
   "source": [
    "# Define functions\n",
    "The functions:  \n",
    "1. Find the true positive rates of a population.\n",
    "2. Find the difference between the true positive rates of 2 populations, in order to enforce this condition during optimisation.\n",
    "3. Find the difference between the selection rates of 2 populations, in order to enforce this condition during optimisation.\n",
    "4. Find the profit of the bank and ensuing credit rate change of its customers given a population, a cutoff, and the population that actually defaulted.\n",
    "5. Find the total bank profit given 2 seperate groups (although this should maybe be extended to multiple groups)."
   ]
  },
  {
   "cell_type": "code",
   "execution_count": 31,
   "metadata": {
    "collapsed": true
   },
   "outputs": [],
   "source": [
    "#create function that finds true positive rates as a function of the cutoff\n",
    "def true_positive_rate(population, population_that_defaulted, cutoff):\n",
    "    population_bank_thinks_defaulted = population < cutoff\n",
    "    \n",
    "    true_positives = np.logical_and(np.logical_not(population_that_defaulted), \n",
    "                                    np.logical_not(population_bank_thinks_defaulted))\n",
    "    \n",
    "    number_true_positives = sum(true_positives)\n",
    "    \n",
    "    false_negatives = np.logical_and(np.logical_not(population_that_defaulted), \n",
    "                                     population_bank_thinks_defaulted)\n",
    "    \n",
    "    number_false_negatives = sum(false_negatives) \n",
    "    \n",
    "    true_positive_rate = number_true_positives/(number_true_positives+number_false_negatives)\n",
    "    \n",
    "    return true_positive_rate\n",
    "\n",
    "def difference_bw_positive_rates(pop1, pop2, pop1_that_defaulted, \n",
    "                                 pop2_that_defaulted, cutoff1, cutoff2, strictness=0.01):\n",
    "    true_positive_rate_group1 = true_positive_rate(pop1, pop1_that_defaulted, cutoff1)\n",
    "    true_positive_rate_group2 = true_positive_rate(pop2, pop2_that_defaulted, cutoff2)\n",
    "    # for the optimiser's constraints\n",
    "    return strictness - np.abs(true_positive_rate_group1-true_positive_rate_group2)\n",
    "\n",
    "def difference_bw_selection_rates(pop1, pop2, pop1_that_defaulted, \n",
    "                                  pop2_that_defaulted, cutoff1, cutoff2, strictness=0.01):\n",
    "    \n",
    "    _, selection_rate_group1, _ = bank_profit(pop1, pop1_that_defaulted, cutoff1)\n",
    "    _, selection_rate_group2, _ = bank_profit(pop2, pop2_that_defaulted, cutoff2)\n",
    "    \n",
    "    return strictness - np.abs(selection_rate_group1-selection_rate_group2)\n",
    "\n",
    "#create function that finds bank profit as a function of the cutoff\n",
    "def bank_profit(population, population_that_defaulted, cutoff, \n",
    "                revenue_factor=1, cost_factor=2, credit_upside=1, credit_downside=2):\n",
    "    population_bank_thinks_defaulted = population < cutoff\n",
    "    \n",
    "    true_positives = np.logical_and(np.logical_not(population_that_defaulted), \n",
    "                                    np.logical_not(population_bank_thinks_defaulted))\n",
    "    \n",
    "    paid_back = sum(true_positives)\n",
    "    false_positives = np.logical_and(population_that_defaulted, \n",
    "                                     np.logical_not(population_bank_thinks_defaulted))\n",
    "    defaulted = sum(false_positives)\n",
    "    \n",
    "    profit = paid_back*revenue_factor - defaulted*cost_factor\n",
    "    selection_rate = sum(np.logical_not(population_bank_thinks_defaulted))/len(population)\n",
    "    \n",
    "    credit_change = (paid_back*credit_upside - defaulted*credit_downside)\n",
    "\n",
    "    \n",
    "    return profit, selection_rate, credit_change\n",
    "\n",
    "def total_bank_profit(pop1, pop2, pop1_that_defaulted, pop2_that_defaulted, cutoff1, cutoff2, \n",
    "                      revenue_factor=1, cost_factor=3, credit_upside=1, credit_downside=2):\n",
    "    \n",
    "    profit_group1, _, _ = bank_profit(pop1, pop1_that_defaulted, cutoff1)\n",
    "    profit_group2, _, _ = bank_profit(pop2, pop2_that_defaulted, cutoff2)\n",
    "    \n",
    "    return -(profit_group1 + profit_group2)"
   ]
  },
  {
   "cell_type": "markdown",
   "metadata": {},
   "source": [
    "# Optimisations\n",
    "\n",
    "In this section, we try to find values for cutoffs (values of credit scores below which the bank will not lend and above which the bank will always lend) in two seperate settings.  \n",
    "In the first setting, we try and maximise bank profit with fairness constraints, specifically the equal opportunity one defined by Liu et. al., which requires equal or almost equal true positive rates between groups.  \n",
    "In the second setting, we maximise bank profit irrespective of equal opportunity. "
   ]
  },
  {
   "cell_type": "code",
   "execution_count": 32,
   "metadata": {},
   "outputs": [
    {
     "name": "stdout",
     "output_type": "stream",
     "text": [
      "initial guess of [50. 50.] got us a profit of  [-16] $\n"
     ]
    }
   ],
   "source": [
    "#what to optimise\n",
    "to_optimise = lambda x: total_bank_profit(blues, oranges, blues_who_defaulted, \n",
    "                                          oranges_who_defaulted, x[0], x[1])\n",
    "\n",
    "to_constrain = lambda x: difference_bw_positive_rates(blues, oranges, blues_who_defaulted, \n",
    "                                                      oranges_who_defaulted, x[0], x[1])\n",
    "\n",
    "#initial guess\n",
    "cutoffs = np.zeros(2)\n",
    "cutoffs[0] = 50\n",
    "cutoffs[1] = 50\n",
    "#show initial objective\n",
    "print(\"initial guess of\", cutoffs, \"got us a profit of \", -to_optimise(cutoffs), \"$\")"
   ]
  },
  {
   "cell_type": "markdown",
   "metadata": {},
   "source": [
    "## 1. With fairness constraints:"
   ]
  },
  {
   "cell_type": "code",
   "execution_count": 33,
   "metadata": {},
   "outputs": [],
   "source": [
    "#optimise with fairness\n",
    "a = (0, 100)\n",
    "bounds = (a, a)\n",
    "equal_true_positives = {'type': 'ineq', 'fun': to_constrain}\n",
    "cons = ([equal_true_positives])\n",
    "\n",
    "solution = minimize(to_optimise, cutoffs, method='SLSQP', constraints = cons,\n",
    "                    bounds=bounds, options = {'eps': 3})\n",
    "\n",
    "x_fair = solution.x"
   ]
  },
  {
   "cell_type": "code",
   "execution_count": 43,
   "metadata": {},
   "outputs": [
    {
     "name": "stdout",
     "output_type": "stream",
     "text": [
      "final guess of [52.89843394 51.78529885] got us a profit of  3 $\n",
      "total credit score change for blues: -174 || total credit score change for oranges: 177\n"
     ]
    }
   ],
   "source": [
    "#final solution got us a profit of:\n",
    "print(\"final guess of\", x_fair, \"got us a profit of \", -to_optimise(x_fair)[0], \"$\")\n",
    "\n",
    "_, _, blues_credit_change = bank_profit(blues, blues_who_defaulted, x_fair[0])\n",
    "_, _, oranges_credit_change = bank_profit(oranges, oranges_who_defaulted, x_fair[1])\n",
    "#final solution got us a change in credit score of:\n",
    "print(\"total credit score change for blues:\", blues_credit_change[0], \n",
    "      \"|| total credit score change for oranges:\", oranges_credit_change[0])"
   ]
  },
  {
   "cell_type": "markdown",
   "metadata": {},
   "source": [
    "## 2. Without fairness constraints:"
   ]
  },
  {
   "cell_type": "code",
   "execution_count": 35,
   "metadata": {
    "collapsed": true
   },
   "outputs": [],
   "source": [
    "#optimise without fairness\n",
    "a = (0, 100)\n",
    "bounds = (a, a)\n",
    "\n",
    "solution_unfair = minimize(to_optimise, cutoffs, method='SLSQP',\n",
    "                    bounds=bounds, options = {'eps': 3})\n",
    "\n",
    "x_unfair = solution_unfair.x"
   ]
  },
  {
   "cell_type": "code",
   "execution_count": 41,
   "metadata": {},
   "outputs": [
    {
     "name": "stdout",
     "output_type": "stream",
     "text": [
      "final guess of [100.          49.19119926] got us a profit of  175 $\n",
      "total credit score change for blues: 0 || total credit score change for oranges: 175\n"
     ]
    }
   ],
   "source": [
    "#final solution got us a profit of:\n",
    "print(\"final guess of\", x_unfair, \"got us a profit of \", -to_optimise(x_unfair)[0], \"$\")\n",
    "\n",
    "_, _, blues_credit_change = bank_profit(blues, blues_who_defaulted, x_unfair[0])\n",
    "_, _, oranges_credit_change = bank_profit(oranges, oranges_who_defaulted, x_unfair[1])\n",
    "#final solution got us a change in credit score of:\n",
    "print(\"total credit score change for blues:\", blues_credit_change[0], \n",
    "      \"|| total credit score change for oranges:\", oranges_credit_change[0])"
   ]
  },
  {
   "cell_type": "markdown",
   "metadata": {},
   "source": [
    "So to answer the question in the title: no it's not obvious that enforcing equalised odds is good, at least when considering change in credit scores.  \n",
    "\n",
    "Now let's see how changing the `strictness` parameters in `difference_bw_positive_rates()` (which regulates how closely the true positive rates between the two groups need to be) affects the variables of interest. \n",
    "\n",
    "## 3.a. Varying fairness equal opportunity constraints"
   ]
  },
  {
   "cell_type": "code",
   "execution_count": 42,
   "metadata": {
    "collapsed": true
   },
   "outputs": [],
   "source": [
    "num_its = 100"
   ]
  },
  {
   "cell_type": "code",
   "execution_count": 12,
   "metadata": {},
   "outputs": [
    {
     "name": "stdout",
     "output_type": "stream",
     "text": [
      "iteration 0 (which took 9.91609787940979 seconds).\n",
      "iteration 20 (which took 0.42153024673461914 seconds).\n",
      "iteration 40 (which took 0.45078206062316895 seconds).\n",
      "iteration 60 (which took 0.260577917098999 seconds).\n",
      "iteration 80 (which took 0.4415700435638428 seconds).\n"
     ]
    }
   ],
   "source": [
    "profit_eq_opt = np.zeros(100)\n",
    "credit_change_blues_eq_opt = np.zeros(100)\n",
    "credit_change_oranges_eq_opt = np.zeros(100)\n",
    "\n",
    "#initial guess\n",
    "cutoffs = np.zeros(2)\n",
    "cutoffs[0] = 50\n",
    "cutoffs[1] = 50\n",
    "\n",
    "#optimise bank profit\n",
    "to_optimise = lambda x: total_bank_profit(blues, oranges, blues_who_defaulted, \n",
    "                                      oranges_who_defaulted, x[0], x[1])\n",
    "\n",
    "#impose bounds\n",
    "a = (0, 100)\n",
    "bounds = (a, a)\n",
    "\n",
    "for i in range(100):\n",
    "    t = time.time()\n",
    "\n",
    "    to_constrain = lambda x: difference_bw_positive_rates(blues, oranges, blues_who_defaulted, \n",
    "                                                          oranges_who_defaulted, x[0], x[1], strictness=(i/100))\n",
    "    \n",
    "    equal_true_positives = {'type': 'ineq', 'fun': to_constrain}\n",
    "    cons = ([equal_true_positives])\n",
    "\n",
    "    solution = minimize(to_optimise, cutoffs, method='SLSQP', \n",
    "                        constraints = cons, bounds=bounds, options = {'eps': 3})\n",
    "\n",
    "    x = solution.x\n",
    "    \n",
    "    index = int(i)\n",
    "    \n",
    "    profit_eq_opt[index] = -to_optimise(x)[0]\n",
    "    _, _, credit_change_blues_eq_opt[index] = bank_profit(blues, blues_who_defaulted, x[0])\n",
    "    _, _, credit_change_oranges_eq_opt[index] = bank_profit(oranges, oranges_who_defaulted, x[1])\n",
    "    \n",
    "    if (i % 20 == 0):\n",
    "        print(\"iteration\", i, \"(which took\", time.time() - t, \"seconds).\")\n",
    "\n"
   ]
  },
  {
   "cell_type": "markdown",
   "metadata": {},
   "source": [
    "## 3.b. Varying fairness demographic parity constraints"
   ]
  },
  {
   "cell_type": "code",
   "execution_count": 13,
   "metadata": {},
   "outputs": [
    {
     "name": "stdout",
     "output_type": "stream",
     "text": [
      "iteration 0 (which took 2.7164716720581055 seconds).\n",
      "iteration 20 (which took 0.66945481300354 seconds).\n",
      "iteration 40 (which took 0.5512070655822754 seconds).\n",
      "iteration 60 (which took 0.5148732662200928 seconds).\n",
      "iteration 80 (which took 0.35427021980285645 seconds).\n"
     ]
    }
   ],
   "source": [
    "profit_dem_par = np.zeros(100)\n",
    "credit_change_blues_dem_par = np.zeros(100)\n",
    "credit_change_oranges_dem_par = np.zeros(100)\n",
    "\n",
    "#initial guess\n",
    "cutoffs = np.zeros(2)\n",
    "cutoffs[0] = 50\n",
    "cutoffs[1] = 50\n",
    "\n",
    "#optimise bank profit\n",
    "to_optimise = lambda x: total_bank_profit(blues, oranges, blues_who_defaulted, \n",
    "                                      oranges_who_defaulted, x[0], x[1])\n",
    "\n",
    "#impose bounds\n",
    "a = (0, 100)\n",
    "bounds = (a, a)\n",
    "\n",
    "for i in range(100):\n",
    "    t = time.time()\n",
    "\n",
    "    to_constrain = lambda x: difference_bw_selection_rates(blues, oranges, blues_who_defaulted, \n",
    "                                                          oranges_who_defaulted, x[0], x[1], strictness=(i/100))\n",
    "    \n",
    "    equal_true_positives = {'type': 'ineq', 'fun': to_constrain}\n",
    "    cons = ([equal_true_positives])\n",
    "\n",
    "    solution = minimize(to_optimise, cutoffs, method='SLSQP', \n",
    "                        constraints = cons, bounds=bounds, options = {'eps': 3})\n",
    "\n",
    "    x = solution.x\n",
    "    \n",
    "    index = int(i)\n",
    "    \n",
    "    profit_dem_par[index] = -to_optimise(x)[0]\n",
    "    _, _, credit_change_blues_dem_par[index] = bank_profit(blues, blues_who_defaulted, x[0])\n",
    "    _, _, credit_change_oranges_dem_par[index] = bank_profit(oranges, oranges_who_defaulted, x[1])\n",
    "    \n",
    "    if (i % 20 == 0):\n",
    "        print(\"iteration\", i, \"(which took\", time.time() - t, \"seconds).\")"
   ]
  },
  {
   "cell_type": "markdown",
   "metadata": {},
   "source": [
    "### Plotting the results"
   ]
  },
  {
   "cell_type": "code",
   "execution_count": 22,
   "metadata": {},
   "outputs": [
    {
     "data": {
      "image/png": "[encoded data removed]",
      "text/plain": [
       "<matplotlib.figure.Figure at 0x113f74828>"
      ]
     },
     "metadata": {},
     "output_type": "display_data"
    }
   ],
   "source": [
    "plt.subplot(211)\n",
    "plt.plot(np.arange(100)/100,credit_change_blues_eq_opt, \"blue\")\n",
    "plt.xlabel(\"strictness of equal opportunity\")\n",
    "plt.title(\"change in credit scores wrt strictness of fairness criteria\")\n",
    "plt.subplot(212)\n",
    "plt.plot(np.arange(100)/100,credit_change_oranges_eq_opt, \"orange\")\n",
    "plt.xlabel(\"strictness of equal opportunity\")\n",
    "\n",
    "plt.show()"
   ]
  },
  {
   "cell_type": "code",
   "execution_count": 15,
   "metadata": {},
   "outputs": [
    {
     "data": {
      "image/png": "[encoded data removed]",
      "text/plain": [
       "<matplotlib.figure.Figure at 0x11387e2e8>"
      ]
     },
     "metadata": {},
     "output_type": "display_data"
    }
   ],
   "source": [
    "plt.subplot(211)\n",
    "plt.plot(credit_change_blues_dem_par, \"blue\")\n",
    "plt.xlabel(\"strictness of equal opportunity\")\n",
    "plt.title(\"change in credit scores wrt strictness of fairness criteria\")\n",
    "plt.subplot(212)\n",
    "plt.plot(credit_change_oranges_dem_par, \"orange\")\n",
    "plt.xlabel(\"strictness of equal opportunity\")\n",
    "\n",
    "plt.show()"
   ]
  },
  {
   "cell_type": "markdown",
   "metadata": {},
   "source": [
    "As we can see, relaxing the strictness criteria seems correlated with an increase in the underprivileged population's credit scores. It's worth asking what happens when we change the distribution a little:\n",
    "\n",
    "## 3.c. Changing the distributions "
   ]
  },
  {
   "cell_type": "code",
   "execution_count": 45,
   "metadata": {},
   "outputs": [
    {
     "name": "stdout",
     "output_type": "stream",
     "text": [
      "iteration 0 (which took 0.2012040615081787 seconds).\n",
      "iteration 20 (which took 5.973872184753418 seconds).\n",
      "iteration 40 (which took 0.42031407356262207 seconds).\n",
      "iteration 60 (which took 0.27184104919433594 seconds).\n",
      "iteration 80 (which took 0.3208119869232178 seconds).\n"
     ]
    }
   ],
   "source": [
    "profit_change_distributions = np.zeros(100)\n",
    "credit_change_blues_change_distributions = np.zeros(100)\n",
    "credit_change_oranges_change_distributions = np.zeros(100)\n",
    "\n",
    "#initial guess\n",
    "cutoffs = np.zeros(2)\n",
    "cutoffs[0] = 50\n",
    "cutoffs[1] = 50\n",
    "\n",
    "\n",
    "#impose bounds\n",
    "a = (0, 100)\n",
    "bounds = (a, a)\n",
    "\n",
    "for i in range(100):\n",
    "    t = time.time()\n",
    "\n",
    "    #create populations\n",
    "    mu_blue = 40+i/5\n",
    "    blues1 = np.random.normal(mu_blue, 5, (int(population_size/5)*3,1))\n",
    "    blues2 = np.random.normal(mu_blue+i/4, 5, (int(population_size/5)*2,1))\n",
    "    blues = np.concatenate((blues1, blues2), axis=0)\n",
    "    blues_who_defaulted = blues < np.random.uniform(0, 100, (population_size,1))\n",
    "    \n",
    "    #optimise bank profit\n",
    "    to_optimise = lambda x: total_bank_profit(blues, oranges, blues_who_defaulted, \n",
    "                                              oranges_who_defaulted, x[0], x[1])\n",
    "\n",
    "    to_constrain = lambda x: difference_bw_positive_rates(blues, oranges, blues_who_defaulted, \n",
    "                                                          oranges_who_defaulted, x[0], x[1], strictness=(i/100))\n",
    "    \n",
    "    equal_true_positives = {'type': 'ineq', 'fun': to_constrain}\n",
    "    cons = ([equal_true_positives])\n",
    "\n",
    "    solution = minimize(to_optimise, cutoffs, method='SLSQP', \n",
    "                        constraints = cons, bounds=bounds, options = {'eps': 3})\n",
    "\n",
    "    x = solution.x\n",
    "    \n",
    "    index = int(i)\n",
    "    \n",
    "    profit_change_distributions[index] = -to_optimise(x)[0]\n",
    "    _, _, credit_change_blues_change_distributions[index] = bank_profit(blues, blues_who_defaulted, x[0])\n",
    "    _, _, credit_change_oranges_change_distributions[index] = bank_profit(oranges, oranges_who_defaulted, x[1])\n",
    "    \n",
    "    if (i % 20 == 0):\n",
    "        print(\"iteration\", i, \"(which took\", time.time() - t, \"seconds).\")"
   ]
  },
  {
   "cell_type": "code",
   "execution_count": 47,
   "metadata": {},
   "outputs": [
    {
     "data": {
      "image/png": "[encoded data removed]",
      "text/plain": [
       "<matplotlib.figure.Figure at 0x113f6c160>"
      ]
     },
     "metadata": {},
     "output_type": "display_data"
    }
   ],
   "source": [
    "plt.subplot(211)\n",
    "plt.plot(np.arange(100),credit_change_blues_change_distributions, \"blue\")\n",
    "plt.xlabel(\"strictness of equal opportunity\")\n",
    "plt.title(\"change in credit scores wrt strictness of fairness criteria\")\n",
    "plt.subplot(212)\n",
    "plt.plot(np.arange(100),credit_change_oranges_change_distributions, \"orange\")\n",
    "plt.xlabel(\"strictness of equal opportunity\")\n",
    "\n",
    "plt.show()"
   ]
  },
  {
   "cell_type": "code",
   "execution_count": null,
   "metadata": {
    "collapsed": true
   },
   "outputs": [],
   "source": []
  },
  {
   "cell_type": "code",
   "execution_count": null,
   "metadata": {
    "collapsed": true
   },
   "outputs": [],
   "source": []
  },
  {
   "cell_type": "code",
   "execution_count": null,
   "metadata": {
    "collapsed": true
   },
   "outputs": [],
   "source": []
  },
  {
   "cell_type": "markdown",
   "metadata": {},
   "source": [
    "# Miscellaneous code"
   ]
  },
  {
   "cell_type": "markdown",
   "metadata": {},
   "source": [
    "### Define true/false positives/negatives"
   ]
  },
  {
   "cell_type": "code",
   "execution_count": 18,
   "metadata": {
    "collapsed": true
   },
   "outputs": [],
   "source": [
    "blues_bank_thinks_defaulted = blues < 30\n",
    "oranges_bank_thinks_defaulted = oranges < 60\n",
    "\n",
    "#define true and false negatives/positives\n",
    "true_negative_blues = np.logical_and(blues_who_defaulted, blues_bank_thinks_defaulted)\n",
    "false_negative_blues = np.logical_and(np.logical_not(blues_who_defaulted), blues_bank_thinks_defaulted)\n",
    "true_positive_blues = np.logical_and(np.logical_not(blues_who_defaulted), np.logical_not(blues_bank_thinks_defaulted))\n",
    "false_positive_blues = np.logical_and(blues_who_defaulted, np.logical_not(blues_bank_thinks_defaulted))"
   ]
  },
  {
   "cell_type": "markdown",
   "metadata": {},
   "source": [
    "### Plot outcome curve"
   ]
  },
  {
   "cell_type": "code",
   "execution_count": 19,
   "metadata": {
    "collapsed": true
   },
   "outputs": [],
   "source": [
    "orange_profit = np.zeros(100)\n",
    "selection_rate_orange = np.zeros(100)\n",
    "credit_change_orange = np.zeros(100)\n",
    "\n",
    "blue_profit = np.zeros(100)\n",
    "selection_rate_blue = np.zeros(100)\n",
    "credit_change_blue = np.zeros(100)\n",
    "\n",
    "for i in range(100):\n",
    "    orange_profit[i], selection_rate_orange[i], credit_change_orange[i] = bank_profit(oranges, oranges_who_defaulted, i)\n",
    "    blue_profit[i], selection_rate_blue[i], credit_change_blue[i] = bank_profit(blues, blues_who_defaulted, i)"
   ]
  },
  {
   "cell_type": "code",
   "execution_count": 48,
   "metadata": {
    "scrolled": true
   },
   "outputs": [
    {
     "data": {
      "image/png": "[encoded data removed]",
      "text/plain": [
       "<matplotlib.figure.Figure at 0x113a206d8>"
      ]
     },
     "metadata": {},
     "output_type": "display_data"
    }
   ],
   "source": [
    "plt.plot(selection_rate_orange, credit_change_orange, 'orange')\n",
    "plt.plot(selection_rate_blue, credit_change_blue, 'b')\n",
    "plt.ylabel(\"credit score change\")\n",
    "plt.xlabel(\"selection rate\")\n",
    "plt.legend((\"orange\", \"blue\"))\n",
    "plt.title(\"Outcome curve for orange and blue populations\")\n",
    "plt.show()"
   ]
  },
  {
   "cell_type": "code",
   "execution_count": 50,
   "metadata": {},
   "outputs": [
    {
     "data": {
      "image/png": "[encoded data removed]",
      "text/plain": [
       "<matplotlib.figure.Figure at 0x1136b74a8>"
      ]
     },
     "metadata": {},
     "output_type": "display_data"
    }
   ],
   "source": [
    "a = np.random.normal(0, 100, (10000,1))\n",
    "plt.hist(a)\n",
    "plt.show()"
   ]
  },
  {
   "cell_type": "code",
   "execution_count": null,
   "metadata": {
    "collapsed": true
   },
   "outputs": [],
   "source": []
  }
 ],
 "metadata": {
  "kernelspec": {
   "display_name": "Python 3",
   "language": "python",
   "name": "python3"
  },
  "language_info": {
   "codemirror_mode": {
    "name": "ipython",
    "version": 3
   },
   "file_extension": ".py",
   "mimetype": "text/x-python",
   "name": "python",
   "nbconvert_exporter": "python",
   "pygments_lexer": "ipython3",
   "version": "3.6.2"
  }
 },
 "nbformat": 4,
 "nbformat_minor": 2
}
