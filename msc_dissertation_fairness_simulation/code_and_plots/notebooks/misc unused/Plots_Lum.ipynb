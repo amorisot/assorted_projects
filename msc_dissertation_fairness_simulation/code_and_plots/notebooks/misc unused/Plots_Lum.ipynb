{
 "cells": [
  {
   "cell_type": "markdown",
   "metadata": {},
   "source": [
    "# Trying to make pretty plots, based on Lum's plots"
   ]
  },
  {
   "cell_type": "code",
   "execution_count": 128,
   "metadata": {
    "collapsed": true
   },
   "outputs": [],
   "source": [
    "import matplotlib.pyplot as plt\n",
    "import numpy as np\n",
    "np.random.seed(42)"
   ]
  },
  {
   "cell_type": "code",
   "execution_count": 192,
   "metadata": {
    "collapsed": true
   },
   "outputs": [],
   "source": [
    "np.random.seed(43)\n",
    "def make_map(height, width, number_big_blobs, number_small_blobs):\n",
    "    plan = np.random.randn(height, width)+20\n",
    "    \n",
    "    y_big_blobs = np.random.randint(1, height-1, size=(1, number_big_blobs))\n",
    "    x_big_blobs = np.random.randint(1, width-1, size=(1, number_big_blobs))\n",
    "    big_blobs = np.concatenate((y_big_blobs, x_big_blobs), axis=0)\n",
    "    \n",
    "    y_small_blobs = np.random.randint(1, height-1, size=(1, number_small_blobs))\n",
    "    x_small_blobs = np.random.randint(1, width-1, size=(1, number_small_blobs))\n",
    "    small_blobs = np.concatenate((y_small_blobs, x_small_blobs), axis=0)\n",
    "    \n",
    "\n",
    "    for i in range(3):\n",
    "        y = big_blobs[0, i]\n",
    "        x = big_blobs[1, i]\n",
    "        plan[y-1:y+2,x-1:x+2] += make_blob()\n",
    "        \n",
    "    for i in range(3):\n",
    "        y = small_blobs[0, i]\n",
    "        x = small_blobs[1, i]\n",
    "        plan[y-1:y+2,x-1:x+2] += make_blob()/1.5\n",
    "\n",
    "    return plan\n",
    "\n",
    "\n",
    "\n",
    "def make_blob():\n",
    "    blob = np.random.randn(3, 3)*3+13\n",
    "    blob[0] /= 2\n",
    "    blob[2] /= 2\n",
    "    blob[1, 0] /= 2\n",
    "    blob[1, 2] /= 2\n",
    "    blob[0, 0] /= 2\n",
    "    blob[0, 2] /= 2\n",
    "    blob[2, 0] /= 2\n",
    "    blob[2, 2] /= 2\n",
    "    return blob"
   ]
  },
  {
   "cell_type": "code",
   "execution_count": 193,
   "metadata": {},
   "outputs": [
    {
     "data": {
      "image/png": "[encoded data removed]",
      "text/plain": [
       "<matplotlib.figure.Figure at 0x10e8ce278>"
      ]
     },
     "metadata": {},
     "output_type": "display_data"
    }
   ],
   "source": [
    "newmap=make_map(20, 15, 6, 10)\n",
    "plt.imshow(newmap)\n",
    "plt.show()"
   ]
  },
  {
   "cell_type": "code",
   "execution_count": null,
   "metadata": {
    "collapsed": true
   },
   "outputs": [],
   "source": []
  }
 ],
 "metadata": {
  "kernelspec": {
   "display_name": "Python 3",
   "language": "python",
   "name": "python3"
  },
  "language_info": {
   "codemirror_mode": {
    "name": "ipython",
    "version": 3
   },
   "file_extension": ".py",
   "mimetype": "text/x-python",
   "name": "python",
   "nbconvert_exporter": "python",
   "pygments_lexer": "ipython3",
   "version": "3.6.2"
  }
 },
 "nbformat": 4,
 "nbformat_minor": 2
}
