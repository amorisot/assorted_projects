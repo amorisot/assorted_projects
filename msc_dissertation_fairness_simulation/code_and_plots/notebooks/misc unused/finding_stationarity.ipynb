{
 "cells": [
  {
   "cell_type": "code",
   "execution_count": 1,
   "metadata": {
    "collapsed": true
   },
   "outputs": [],
   "source": [
    "import numpy as np\n",
    "import matplotlib.pyplot as plt"
   ]
  },
  {
   "cell_type": "code",
   "execution_count": 25,
   "metadata": {
    "collapsed": true
   },
   "outputs": [],
   "source": [
    "blues = np.random.normal(60, 10, (100,1))\n",
    "uniform = np.random.uniform(0, 1, (100,1))*100\n",
    "default = uniform < blues\n"
   ]
  },
  {
   "cell_type": "code",
   "execution_count": 166,
   "metadata": {
    "collapsed": true
   },
   "outputs": [],
   "source": [
    "def natural_cycle(blues, true_mean=50):\n",
    "    distance = np.abs(blues - true_mean)/50\n",
    "    over = blues > true_mean\n",
    "    under = blues < true_mean\n",
    "    blues[over] -= distance[over]\n",
    "    blues[under] += distance[under]\n",
    "    return blues\n",
    "\n",
    "def one_iterate(blues):\n",
    "    new_blues = natural_cycle(blues)\n",
    "    new_blues = classification_shift(new_blues)\n",
    "    return new_blues\n",
    "\n",
    "def classification_shift(blues, shift=0.75):\n",
    "    uniform = np.random.uniform(0, 1, (len(blues),1))*100\n",
    "    default = uniform < blues\n",
    "    payback = uniform >= blues\n",
    "    blues[payback] += shift\n",
    "    blues[default] -= shift\n",
    "    return blues"
   ]
  },
  {
   "cell_type": "code",
   "execution_count": 170,
   "metadata": {},
   "outputs": [
    {
     "name": "stdout",
     "output_type": "stream",
     "text": [
      "19.77449813455608 102.56360690267243\n"
     ]
    },
    {
     "data": {
      "image/png": "[encoded data removed]",
      "text/plain": [
       "<matplotlib.figure.Figure at 0x10ccf2080>"
      ]
     },
     "metadata": {},
     "output_type": "display_data"
    },
    {
     "name": "stdout",
     "output_type": "stream",
     "text": [
      "50.08458012958562 8.264640027449277\n"
     ]
    }
   ],
   "source": [
    "blues = np.random.normal(20, 10, (1090,1))\n",
    "plt.subplot(211)\n",
    "plt.hist(blues)\n",
    "print(np.average(blues), np.var(blues))\n",
    "for i in range(10000):\n",
    "    blues = one_iterate(blues)\n",
    "plt.subplot(212)\n",
    "plt.hist(blues)\n",
    "plt.show()\n",
    "print(np.average(blues), np.var(blues))"
   ]
  },
  {
   "cell_type": "markdown",
   "metadata": {
    "collapsed": true
   },
   "source": [
    "# Profit maximisation"
   ]
  },
  {
   "cell_type": "code",
   "execution_count": null,
   "metadata": {
    "collapsed": true
   },
   "outputs": [],
   "source": []
  }
 ],
 "metadata": {
  "kernelspec": {
   "display_name": "Python 3",
   "language": "python",
   "name": "python3"
  },
  "language_info": {
   "codemirror_mode": {
    "name": "ipython",
    "version": 3
   },
   "file_extension": ".py",
   "mimetype": "text/x-python",
   "name": "python",
   "nbconvert_exporter": "python",
   "pygments_lexer": "ipython3",
   "version": "3.6.2"
  }
 },
 "nbformat": 4,
 "nbformat_minor": 2
}
