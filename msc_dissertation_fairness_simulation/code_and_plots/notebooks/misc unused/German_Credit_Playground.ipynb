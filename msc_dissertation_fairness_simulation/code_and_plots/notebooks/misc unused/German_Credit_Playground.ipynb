{
 "cells": [
  {
   "cell_type": "markdown",
   "metadata": {},
   "source": [
    "# German Credit Playground notebook\n",
    "\n",
    "Structured as follows:\n",
    "\n",
    "## 1. importing and data wrangling\n",
    "## 2. logistic regression playground\n",
    "## 3. neural network playground (includes bootstrapping!)\n",
    "\n",
    "But first: \n",
    "\n",
    "## 1. importing and data wrangling"
   ]
  },
  {
   "cell_type": "code",
   "execution_count": 1,
   "metadata": {},
   "outputs": [
    {
     "name": "stderr",
     "output_type": "stream",
     "text": [
      "/anaconda/envs/mlp/lib/python3.6/site-packages/h5py/__init__.py:36: FutureWarning: Conversion of the second argument of issubdtype from `float` to `np.floating` is deprecated. In future, it will be treated as `np.float64 == np.dtype(float).type`.\n",
      "  from ._conv import register_converters as _register_converters\n",
      "Using TensorFlow backend.\n"
     ]
    }
   ],
   "source": [
    "# import everything required\n",
    "import numpy as np\n",
    "import pandas as pd\n",
    "import keras as ks\n",
    "import matplotlib.pyplot as plt\n",
    "import sklearn as sk\n",
    "from sklearn.linear_model import LogisticRegression\n",
    "\n",
    "# for reproducibility\n",
    "np.random.seed(123)"
   ]
  },
  {
   "cell_type": "code",
   "execution_count": 2,
   "metadata": {
    "scrolled": true
   },
   "outputs": [
    {
     "data": {
      "text/html": [
       "<div>\n",
       "<style>\n",
       "    .dataframe thead tr:only-child th {\n",
       "        text-align: right;\n",
       "    }\n",
       "\n",
       "    .dataframe thead th {\n",
       "        text-align: left;\n",
       "    }\n",
       "\n",
       "    .dataframe tbody tr th {\n",
       "        vertical-align: top;\n",
       "    }\n",
       "</style>\n",
       "<table border=\"1\" class=\"dataframe\">\n",
       "  <thead>\n",
       "    <tr style=\"text-align: right;\">\n",
       "      <th></th>\n",
       "      <th>ns1</th>\n",
       "      <th>ns2</th>\n",
       "      <th>ns3</th>\n",
       "      <th>ns4</th>\n",
       "      <th>ns5</th>\n",
       "      <th>ns6</th>\n",
       "      <th>ns7</th>\n",
       "      <th>ns8</th>\n",
       "      <th>s9</th>\n",
       "      <th>ns10</th>\n",
       "      <th>...</th>\n",
       "      <th>ns12</th>\n",
       "      <th>s13</th>\n",
       "      <th>ns14</th>\n",
       "      <th>ns15</th>\n",
       "      <th>ns16</th>\n",
       "      <th>ns17</th>\n",
       "      <th>ns18</th>\n",
       "      <th>ns19</th>\n",
       "      <th>ns20</th>\n",
       "      <th>y</th>\n",
       "    </tr>\n",
       "  </thead>\n",
       "  <tbody>\n",
       "    <tr>\n",
       "      <th>0</th>\n",
       "      <td>A11</td>\n",
       "      <td>6</td>\n",
       "      <td>A34</td>\n",
       "      <td>A43</td>\n",
       "      <td>1169</td>\n",
       "      <td>A65</td>\n",
       "      <td>A75</td>\n",
       "      <td>4</td>\n",
       "      <td>A93</td>\n",
       "      <td>A101</td>\n",
       "      <td>...</td>\n",
       "      <td>A121</td>\n",
       "      <td>67</td>\n",
       "      <td>A143</td>\n",
       "      <td>A152</td>\n",
       "      <td>2</td>\n",
       "      <td>A173</td>\n",
       "      <td>1</td>\n",
       "      <td>A192</td>\n",
       "      <td>A201</td>\n",
       "      <td>1</td>\n",
       "    </tr>\n",
       "    <tr>\n",
       "      <th>1</th>\n",
       "      <td>A12</td>\n",
       "      <td>48</td>\n",
       "      <td>A32</td>\n",
       "      <td>A43</td>\n",
       "      <td>5951</td>\n",
       "      <td>A61</td>\n",
       "      <td>A73</td>\n",
       "      <td>2</td>\n",
       "      <td>A92</td>\n",
       "      <td>A101</td>\n",
       "      <td>...</td>\n",
       "      <td>A121</td>\n",
       "      <td>22</td>\n",
       "      <td>A143</td>\n",
       "      <td>A152</td>\n",
       "      <td>1</td>\n",
       "      <td>A173</td>\n",
       "      <td>1</td>\n",
       "      <td>A191</td>\n",
       "      <td>A201</td>\n",
       "      <td>2</td>\n",
       "    </tr>\n",
       "    <tr>\n",
       "      <th>2</th>\n",
       "      <td>A14</td>\n",
       "      <td>12</td>\n",
       "      <td>A34</td>\n",
       "      <td>A46</td>\n",
       "      <td>2096</td>\n",
       "      <td>A61</td>\n",
       "      <td>A74</td>\n",
       "      <td>2</td>\n",
       "      <td>A93</td>\n",
       "      <td>A101</td>\n",
       "      <td>...</td>\n",
       "      <td>A121</td>\n",
       "      <td>49</td>\n",
       "      <td>A143</td>\n",
       "      <td>A152</td>\n",
       "      <td>1</td>\n",
       "      <td>A172</td>\n",
       "      <td>2</td>\n",
       "      <td>A191</td>\n",
       "      <td>A201</td>\n",
       "      <td>1</td>\n",
       "    </tr>\n",
       "    <tr>\n",
       "      <th>3</th>\n",
       "      <td>A11</td>\n",
       "      <td>42</td>\n",
       "      <td>A32</td>\n",
       "      <td>A42</td>\n",
       "      <td>7882</td>\n",
       "      <td>A61</td>\n",
       "      <td>A74</td>\n",
       "      <td>2</td>\n",
       "      <td>A93</td>\n",
       "      <td>A103</td>\n",
       "      <td>...</td>\n",
       "      <td>A122</td>\n",
       "      <td>45</td>\n",
       "      <td>A143</td>\n",
       "      <td>A153</td>\n",
       "      <td>1</td>\n",
       "      <td>A173</td>\n",
       "      <td>2</td>\n",
       "      <td>A191</td>\n",
       "      <td>A201</td>\n",
       "      <td>1</td>\n",
       "    </tr>\n",
       "    <tr>\n",
       "      <th>4</th>\n",
       "      <td>A11</td>\n",
       "      <td>24</td>\n",
       "      <td>A33</td>\n",
       "      <td>A40</td>\n",
       "      <td>4870</td>\n",
       "      <td>A61</td>\n",
       "      <td>A73</td>\n",
       "      <td>3</td>\n",
       "      <td>A93</td>\n",
       "      <td>A101</td>\n",
       "      <td>...</td>\n",
       "      <td>A124</td>\n",
       "      <td>53</td>\n",
       "      <td>A143</td>\n",
       "      <td>A153</td>\n",
       "      <td>2</td>\n",
       "      <td>A173</td>\n",
       "      <td>2</td>\n",
       "      <td>A191</td>\n",
       "      <td>A201</td>\n",
       "      <td>2</td>\n",
       "    </tr>\n",
       "  </tbody>\n",
       "</table>\n",
       "<p>5 rows × 21 columns</p>\n",
       "</div>"
      ],
      "text/plain": [
       "   ns1  ns2  ns3  ns4   ns5  ns6  ns7  ns8   s9  ns10 ...  ns12 s13  ns14  \\\n",
       "0  A11    6  A34  A43  1169  A65  A75    4  A93  A101 ...  A121  67  A143   \n",
       "1  A12   48  A32  A43  5951  A61  A73    2  A92  A101 ...  A121  22  A143   \n",
       "2  A14   12  A34  A46  2096  A61  A74    2  A93  A101 ...  A121  49  A143   \n",
       "3  A11   42  A32  A42  7882  A61  A74    2  A93  A103 ...  A122  45  A143   \n",
       "4  A11   24  A33  A40  4870  A61  A73    3  A93  A101 ...  A124  53  A143   \n",
       "\n",
       "   ns15 ns16  ns17 ns18  ns19  ns20  y  \n",
       "0  A152    2  A173    1  A192  A201  1  \n",
       "1  A152    1  A173    1  A191  A201  2  \n",
       "2  A152    1  A172    2  A191  A201  1  \n",
       "3  A153    1  A173    2  A191  A201  1  \n",
       "4  A153    2  A173    2  A191  A201  2  \n",
       "\n",
       "[5 rows x 21 columns]"
      ]
     },
     "execution_count": 2,
     "metadata": {},
     "output_type": "execute_result"
    }
   ],
   "source": [
    "# load data\n",
    "PATH=\"datasets/german_credit.csv\"\n",
    "raw_data = pd.read_csv(PATH, index_col=False)\n",
    "df = pd.DataFrame(raw_data)\n",
    "df.head()"
   ]
  },
  {
   "cell_type": "code",
   "execution_count": 3,
   "metadata": {},
   "outputs": [
    {
     "name": "stdout",
     "output_type": "stream",
     "text": [
      "Index(['ns1', 'ns2', 'ns3', 'ns4', 'ns5', 'ns6', 'ns7', 'ns8', 's9', 'ns10',\n",
      "       'ns11', 'ns12', 's13', 'ns14', 'ns15', 'ns16', 'ns17', 'ns18', 'ns19',\n",
      "       'ns20', 'y'],\n",
      "      dtype='object')\n"
     ]
    }
   ],
   "source": [
    "print(df.columns)"
   ]
  },
  {
   "cell_type": "code",
   "execution_count": 4,
   "metadata": {
    "collapsed": true
   },
   "outputs": [],
   "source": [
    "# one-hot encode categorical variables\n",
    "categoricals = [\"ns1\", \"ns3\", \"ns4\", \"ns6\", \"ns7\", \"s9\", \"ns10\", \"ns12\", \"ns14\", \"ns15\", \"ns17\", \"ns19\", \"ns20\"]\n",
    "for a in categoricals:\n",
    "    one_hot = pd.get_dummies(df[a])\n",
    "    df = df.join(one_hot)\n",
    "    df = df.drop(a, axis=1)\n",
    "# create labels, drop labels from main database, turn y into a binary variable\n",
    "y = df[\"y\"] - 1\n",
    "df = df.drop(\"y\", axis=1)"
   ]
  },
  {
   "cell_type": "code",
   "execution_count": 5,
   "metadata": {
    "collapsed": true
   },
   "outputs": [],
   "source": [
    "sensitive = df[\"A93\"]\n",
    "df = df.drop(\"A93\", axis=1)\n",
    "df = df.drop(\"A91\", axis=1)\n",
    "df = df.drop(\"A92\", axis=1)\n",
    "df = df.drop(\"A94\", axis=1)"
   ]
  },
  {
   "cell_type": "code",
   "execution_count": 6,
   "metadata": {
    "collapsed": true
   },
   "outputs": [],
   "source": [
    "# train-test split\n",
    "X_train = df[0:800]\n",
    "X_val = df[800:900]\n",
    "X_test = df[900:1000]\n",
    "y_train = y[0:800]\n",
    "y_val = y[800:900]\n",
    "y_test = y[900:1000]"
   ]
  },
  {
   "cell_type": "markdown",
   "metadata": {},
   "source": [
    "## 2. logistic regression playground"
   ]
  },
  {
   "cell_type": "markdown",
   "metadata": {},
   "source": [
    "I computed elsewhere that the feature with the biggest mutual information with the applicant's sex (`s9`) is feature `ns5`, i.e. the applicant's credit score. Annoyingly, this is also the feature that has highest mutual information with the target `y`. The goal of this section is to figure out whether this is bad news or not, by first computing the accuracy of a logistic regression with the credit score information untouched, and computing the accuracy of a logistic regression with the credit score information fiddled with.\n",
    "\n",
    "### Untouched logistic regression:"
   ]
  },
  {
   "cell_type": "code",
   "execution_count": 7,
   "metadata": {
    "collapsed": true
   },
   "outputs": [],
   "source": [
    "def fit_logistic_regression(X, y):\n",
    "    model = LogisticRegression()\n",
    "    model = model.fit(X, y)\n",
    "    \n",
    "    return model\n",
    "    #return model.coef_, model.intercept_, model.Score(X, y)"
   ]
  },
  {
   "cell_type": "code",
   "execution_count": 8,
   "metadata": {},
   "outputs": [
    {
     "name": "stdout",
     "output_type": "stream",
     "text": [
      "0.76\n",
      "[[ 2.89196681e-02  6.86228439e-05  2.42825775e-01 -1.93677383e-02\n",
      "  -2.24595935e-02  2.09286091e-01  1.08187912e-01  6.03256237e-01\n",
      "   3.11854366e-01 -3.32942787e-01 -1.10716732e+00  4.21419635e-01\n",
      "   4.82872199e-01 -2.38231882e-01 -3.56526290e-01 -8.34533165e-01\n",
      "   6.19325785e-01 -9.61345445e-01 -3.06283272e-01 -1.87797517e-01\n",
      "  -2.40979608e-01 -2.11577899e-03  2.77348814e-01  5.99287451e-01\n",
      "  -2.76942455e-01 -4.54974778e-02  3.69970055e-01  5.23691231e-02\n",
      "  -1.79181270e-01 -4.51200814e-01 -3.16956598e-01  1.56024814e-01\n",
      "   1.77643809e-01  1.04407846e-02 -7.77355095e-01 -9.17538166e-02\n",
      "  -1.19345717e-01  3.88378277e-01 -7.94032064e-01 -3.89359059e-01\n",
      "  -5.11790118e-02 -2.12691172e-01  1.28229739e-01 -5.08814000e-02\n",
      "  -2.16423905e-02 -4.52475713e-01  1.45935893e-01 -3.72608444e-01\n",
      "  -2.98326953e-01 -2.73754930e-01 -2.10885242e-01 -1.62091782e-01\n",
      "   1.21732450e-01 -1.02983428e-01 -4.22016075e-01  1.61289603e-01\n",
      "  -6.86289107e-01]]\n"
     ]
    }
   ],
   "source": [
    "model_unfiddled = fit_logistic_regression(X_train, y_train)\n",
    "\n",
    "print(model_unfiddled.score(X_val, y_val))\n",
    "print(model_unfiddled.coef_)"
   ]
  },
  {
   "cell_type": "markdown",
   "metadata": {},
   "source": [
    "### Logistic regression with fiddled `ns5`"
   ]
  },
  {
   "cell_type": "code",
   "execution_count": 9,
   "metadata": {
    "collapsed": true
   },
   "outputs": [],
   "source": [
    "#fiddle\n",
    "X_train_fiddled = X_train.copy()\n",
    "X_train_fiddled['ns5'] += np.transpose(np.random.randn(800))*100000"
   ]
  },
  {
   "cell_type": "code",
   "execution_count": 10,
   "metadata": {
    "scrolled": true
   },
   "outputs": [
    {
     "name": "stdout",
     "output_type": "stream",
     "text": [
      "0.74\n",
      "[[ 2.97240504e-02 -1.50831546e-06  9.53758524e-03 -1.36748749e-02\n",
      "  -3.74348155e-02 -1.52034156e-02 -7.00671738e-03  3.38389887e-02\n",
      "   1.79626941e-02 -3.68217154e-03 -5.95364900e-02  8.82679485e-03\n",
      "   9.13252421e-03 -6.43039349e-03  1.76724898e-04 -2.31226293e-02\n",
      "   1.82046034e-02 -1.52354902e-02  5.71637375e-04 -1.65825960e-03\n",
      "  -2.11513245e-02  6.72783811e-05  1.69242830e-03  7.43033496e-03\n",
      "  -1.22489316e-03 -1.13293747e-04  1.70705910e-02 -5.00999986e-04\n",
      "  -8.07824465e-03 -5.97571413e-03 -1.39326110e-02  5.94118940e-03\n",
      "   7.73684538e-03 -6.86762543e-03 -1.83645732e-02  1.37185030e-04\n",
      "  -9.92095976e-03  4.16623846e-03 -5.66225749e-03 -1.59872852e-02\n",
      "  -3.72205339e-04 -1.19228731e-02  1.68653848e-02  8.02267746e-03\n",
      "   2.83091422e-03 -2.22705705e-02  5.02507598e-03 -2.81744986e-02\n",
      "   1.17324439e-02  4.68243547e-04  7.41866575e-04 -1.97958554e-02\n",
      "   7.16876648e-03 -2.19706050e-04 -1.11972727e-02 -6.46524234e-03\n",
      "  -4.95173646e-03]]\n"
     ]
    }
   ],
   "source": [
    "model_fiddled = fit_logistic_regression(X_train_fiddled, y_train)\n",
    "print(model_fiddled.score(X_val, y_val))\n",
    "print(model_fiddled.coef_)"
   ]
  },
  {
   "cell_type": "code",
   "execution_count": 11,
   "metadata": {
    "collapsed": true
   },
   "outputs": [],
   "source": [
    "averages = [0]*61\n",
    "\n",
    "for i, col in enumerate(X_train.columns):\n",
    "    averages[i] = np.average(model_fiddled.coef_[0][i]*X_train[col])"
   ]
  },
  {
   "cell_type": "code",
   "execution_count": 12,
   "metadata": {},
   "outputs": [
    {
     "name": "stdout",
     "output_type": "stream",
     "text": [
      "[0.6138387949185153, -0.004812998821906142, 0.028290862206875707, -0.03885373823566506, -1.3254264359917882, -0.02122776897632966, -0.008040208198764238, 0.008840435785948375, 0.005074461093023374, -0.0002531492936540419, -0.02307038988954629, 0.0003641052875699986, 0.00042237924484174813, -0.0034081085501405516, 1.568433471123014e-05, -0.006792272345992596, 0.004187058788939063, -0.0015425933806225147, 7.145467187833599e-06, -0.0002984867281064437, -0.0058959317181740845, 7.568817869404638e-07, 4.0195172028926684e-05, 0.00041795634148754737, -1.2248931584749651e-05, -1.090452315716303e-05, 0.010157001625172982, -5.57362484502957e-05, -0.0005149880962296404, -0.00031372499194346084, -0.002473038451482039, 0.00035647136384168635, 0.001286250544736107, -0.002360746242614196, -0.003236756021048167, 3.4810701423566026e-05, -0.009028073379713059, 0.0001562339421617467, -0.0002972685183496315, -0.004576360385421171, -8.235043129494805e-05, -0.003964355290898309, 0.0026984615665776135, 0.001123174844288209, 0.0001238524969791585, -0.018178353144930864, 0.0008793882958029966, -0.020074330277833004, 0.001319899935024492, 9.950175374964023e-06, 0.00014930064814041067, -0.012446644077479863, 0.0010663540134978663, -0.00013209826254629477, -0.004464912506143866, -0.006247040407058122, -0.00016712110541562399, 0, 0, 0, 0]\n"
     ]
    },
    {
     "data": {
      "image/png": "[encoded data removed]",
      "text/plain": [
       "<matplotlib.figure.Figure at 0x12480cc50>"
      ]
     },
     "metadata": {},
     "output_type": "display_data"
    }
   ],
   "source": [
    "print(averages)\n",
    "plt.hist(averages, bins=100)\n",
    "plt.show()"
   ]
  },
  {
   "cell_type": "code",
   "execution_count": 13,
   "metadata": {},
   "outputs": [
    {
     "data": {
      "text/html": [
       "<div>\n",
       "<style>\n",
       "    .dataframe thead tr:only-child th {\n",
       "        text-align: right;\n",
       "    }\n",
       "\n",
       "    .dataframe thead th {\n",
       "        text-align: left;\n",
       "    }\n",
       "\n",
       "    .dataframe tbody tr th {\n",
       "        vertical-align: top;\n",
       "    }\n",
       "</style>\n",
       "<table border=\"1\" class=\"dataframe\">\n",
       "  <thead>\n",
       "    <tr style=\"text-align: right;\">\n",
       "      <th></th>\n",
       "      <th>ns2</th>\n",
       "      <th>ns5</th>\n",
       "      <th>ns8</th>\n",
       "      <th>ns11</th>\n",
       "      <th>s13</th>\n",
       "      <th>ns16</th>\n",
       "      <th>ns18</th>\n",
       "      <th>A11</th>\n",
       "      <th>A12</th>\n",
       "      <th>A13</th>\n",
       "      <th>...</th>\n",
       "      <th>A152</th>\n",
       "      <th>A153</th>\n",
       "      <th>A171</th>\n",
       "      <th>A172</th>\n",
       "      <th>A173</th>\n",
       "      <th>A174</th>\n",
       "      <th>A191</th>\n",
       "      <th>A192</th>\n",
       "      <th>A201</th>\n",
       "      <th>A202</th>\n",
       "    </tr>\n",
       "  </thead>\n",
       "  <tbody>\n",
       "    <tr>\n",
       "      <th>0</th>\n",
       "      <td>6</td>\n",
       "      <td>1169</td>\n",
       "      <td>4</td>\n",
       "      <td>4</td>\n",
       "      <td>67</td>\n",
       "      <td>2</td>\n",
       "      <td>1</td>\n",
       "      <td>1</td>\n",
       "      <td>0</td>\n",
       "      <td>0</td>\n",
       "      <td>...</td>\n",
       "      <td>1</td>\n",
       "      <td>0</td>\n",
       "      <td>0</td>\n",
       "      <td>0</td>\n",
       "      <td>1</td>\n",
       "      <td>0</td>\n",
       "      <td>0</td>\n",
       "      <td>1</td>\n",
       "      <td>1</td>\n",
       "      <td>0</td>\n",
       "    </tr>\n",
       "    <tr>\n",
       "      <th>1</th>\n",
       "      <td>48</td>\n",
       "      <td>5951</td>\n",
       "      <td>2</td>\n",
       "      <td>2</td>\n",
       "      <td>22</td>\n",
       "      <td>1</td>\n",
       "      <td>1</td>\n",
       "      <td>0</td>\n",
       "      <td>1</td>\n",
       "      <td>0</td>\n",
       "      <td>...</td>\n",
       "      <td>1</td>\n",
       "      <td>0</td>\n",
       "      <td>0</td>\n",
       "      <td>0</td>\n",
       "      <td>1</td>\n",
       "      <td>0</td>\n",
       "      <td>1</td>\n",
       "      <td>0</td>\n",
       "      <td>1</td>\n",
       "      <td>0</td>\n",
       "    </tr>\n",
       "    <tr>\n",
       "      <th>2</th>\n",
       "      <td>12</td>\n",
       "      <td>2096</td>\n",
       "      <td>2</td>\n",
       "      <td>3</td>\n",
       "      <td>49</td>\n",
       "      <td>1</td>\n",
       "      <td>2</td>\n",
       "      <td>0</td>\n",
       "      <td>0</td>\n",
       "      <td>0</td>\n",
       "      <td>...</td>\n",
       "      <td>1</td>\n",
       "      <td>0</td>\n",
       "      <td>0</td>\n",
       "      <td>1</td>\n",
       "      <td>0</td>\n",
       "      <td>0</td>\n",
       "      <td>1</td>\n",
       "      <td>0</td>\n",
       "      <td>1</td>\n",
       "      <td>0</td>\n",
       "    </tr>\n",
       "    <tr>\n",
       "      <th>3</th>\n",
       "      <td>42</td>\n",
       "      <td>7882</td>\n",
       "      <td>2</td>\n",
       "      <td>4</td>\n",
       "      <td>45</td>\n",
       "      <td>1</td>\n",
       "      <td>2</td>\n",
       "      <td>1</td>\n",
       "      <td>0</td>\n",
       "      <td>0</td>\n",
       "      <td>...</td>\n",
       "      <td>0</td>\n",
       "      <td>1</td>\n",
       "      <td>0</td>\n",
       "      <td>0</td>\n",
       "      <td>1</td>\n",
       "      <td>0</td>\n",
       "      <td>1</td>\n",
       "      <td>0</td>\n",
       "      <td>1</td>\n",
       "      <td>0</td>\n",
       "    </tr>\n",
       "    <tr>\n",
       "      <th>4</th>\n",
       "      <td>24</td>\n",
       "      <td>4870</td>\n",
       "      <td>3</td>\n",
       "      <td>4</td>\n",
       "      <td>53</td>\n",
       "      <td>2</td>\n",
       "      <td>2</td>\n",
       "      <td>1</td>\n",
       "      <td>0</td>\n",
       "      <td>0</td>\n",
       "      <td>...</td>\n",
       "      <td>0</td>\n",
       "      <td>1</td>\n",
       "      <td>0</td>\n",
       "      <td>0</td>\n",
       "      <td>1</td>\n",
       "      <td>0</td>\n",
       "      <td>1</td>\n",
       "      <td>0</td>\n",
       "      <td>1</td>\n",
       "      <td>0</td>\n",
       "    </tr>\n",
       "  </tbody>\n",
       "</table>\n",
       "<p>5 rows × 57 columns</p>\n",
       "</div>"
      ],
      "text/plain": [
       "   ns2   ns5  ns8  ns11  s13  ns16  ns18  A11  A12  A13  ...   A152  A153  \\\n",
       "0    6  1169    4     4   67     2     1    1    0    0  ...      1     0   \n",
       "1   48  5951    2     2   22     1     1    0    1    0  ...      1     0   \n",
       "2   12  2096    2     3   49     1     2    0    0    0  ...      1     0   \n",
       "3   42  7882    2     4   45     1     2    1    0    0  ...      0     1   \n",
       "4   24  4870    3     4   53     2     2    1    0    0  ...      0     1   \n",
       "\n",
       "   A171  A172  A173  A174  A191  A192  A201  A202  \n",
       "0     0     0     1     0     0     1     1     0  \n",
       "1     0     0     1     0     1     0     1     0  \n",
       "2     0     1     0     0     1     0     1     0  \n",
       "3     0     0     1     0     1     0     1     0  \n",
       "4     0     0     1     0     1     0     1     0  \n",
       "\n",
       "[5 rows x 57 columns]"
      ]
     },
     "execution_count": 13,
     "metadata": {},
     "output_type": "execute_result"
    }
   ],
   "source": [
    "X_train.head()"
   ]
  },
  {
   "cell_type": "code",
   "execution_count": 14,
   "metadata": {},
   "outputs": [
    {
     "data": {
      "text/html": [
       "<div>\n",
       "<style>\n",
       "    .dataframe thead tr:only-child th {\n",
       "        text-align: right;\n",
       "    }\n",
       "\n",
       "    .dataframe thead th {\n",
       "        text-align: left;\n",
       "    }\n",
       "\n",
       "    .dataframe tbody tr th {\n",
       "        vertical-align: top;\n",
       "    }\n",
       "</style>\n",
       "<table border=\"1\" class=\"dataframe\">\n",
       "  <thead>\n",
       "    <tr style=\"text-align: right;\">\n",
       "      <th></th>\n",
       "      <th>ns2</th>\n",
       "      <th>ns5</th>\n",
       "      <th>ns8</th>\n",
       "      <th>ns11</th>\n",
       "      <th>s13</th>\n",
       "      <th>ns16</th>\n",
       "      <th>ns18</th>\n",
       "      <th>A11</th>\n",
       "      <th>A12</th>\n",
       "      <th>A13</th>\n",
       "      <th>...</th>\n",
       "      <th>A152</th>\n",
       "      <th>A153</th>\n",
       "      <th>A171</th>\n",
       "      <th>A172</th>\n",
       "      <th>A173</th>\n",
       "      <th>A174</th>\n",
       "      <th>A191</th>\n",
       "      <th>A192</th>\n",
       "      <th>A201</th>\n",
       "      <th>A202</th>\n",
       "    </tr>\n",
       "  </thead>\n",
       "  <tbody>\n",
       "    <tr>\n",
       "      <th>0</th>\n",
       "      <td>6</td>\n",
       "      <td>-55791.969590</td>\n",
       "      <td>4</td>\n",
       "      <td>4</td>\n",
       "      <td>67</td>\n",
       "      <td>2</td>\n",
       "      <td>1</td>\n",
       "      <td>1</td>\n",
       "      <td>0</td>\n",
       "      <td>0</td>\n",
       "      <td>...</td>\n",
       "      <td>1</td>\n",
       "      <td>0</td>\n",
       "      <td>0</td>\n",
       "      <td>0</td>\n",
       "      <td>1</td>\n",
       "      <td>0</td>\n",
       "      <td>0</td>\n",
       "      <td>1</td>\n",
       "      <td>1</td>\n",
       "      <td>0</td>\n",
       "    </tr>\n",
       "    <tr>\n",
       "      <th>1</th>\n",
       "      <td>48</td>\n",
       "      <td>175534.372043</td>\n",
       "      <td>2</td>\n",
       "      <td>2</td>\n",
       "      <td>22</td>\n",
       "      <td>1</td>\n",
       "      <td>1</td>\n",
       "      <td>0</td>\n",
       "      <td>1</td>\n",
       "      <td>0</td>\n",
       "      <td>...</td>\n",
       "      <td>1</td>\n",
       "      <td>0</td>\n",
       "      <td>0</td>\n",
       "      <td>0</td>\n",
       "      <td>1</td>\n",
       "      <td>0</td>\n",
       "      <td>1</td>\n",
       "      <td>0</td>\n",
       "      <td>1</td>\n",
       "      <td>0</td>\n",
       "    </tr>\n",
       "    <tr>\n",
       "      <th>2</th>\n",
       "      <td>12</td>\n",
       "      <td>113183.147343</td>\n",
       "      <td>2</td>\n",
       "      <td>3</td>\n",
       "      <td>49</td>\n",
       "      <td>1</td>\n",
       "      <td>2</td>\n",
       "      <td>0</td>\n",
       "      <td>0</td>\n",
       "      <td>0</td>\n",
       "      <td>...</td>\n",
       "      <td>1</td>\n",
       "      <td>0</td>\n",
       "      <td>0</td>\n",
       "      <td>1</td>\n",
       "      <td>0</td>\n",
       "      <td>0</td>\n",
       "      <td>1</td>\n",
       "      <td>0</td>\n",
       "      <td>1</td>\n",
       "      <td>0</td>\n",
       "    </tr>\n",
       "    <tr>\n",
       "      <th>3</th>\n",
       "      <td>42</td>\n",
       "      <td>104641.406824</td>\n",
       "      <td>2</td>\n",
       "      <td>4</td>\n",
       "      <td>45</td>\n",
       "      <td>1</td>\n",
       "      <td>2</td>\n",
       "      <td>1</td>\n",
       "      <td>0</td>\n",
       "      <td>0</td>\n",
       "      <td>...</td>\n",
       "      <td>0</td>\n",
       "      <td>1</td>\n",
       "      <td>0</td>\n",
       "      <td>0</td>\n",
       "      <td>1</td>\n",
       "      <td>0</td>\n",
       "      <td>1</td>\n",
       "      <td>0</td>\n",
       "      <td>1</td>\n",
       "      <td>0</td>\n",
       "    </tr>\n",
       "    <tr>\n",
       "      <th>4</th>\n",
       "      <td>24</td>\n",
       "      <td>157006.080062</td>\n",
       "      <td>3</td>\n",
       "      <td>4</td>\n",
       "      <td>53</td>\n",
       "      <td>2</td>\n",
       "      <td>2</td>\n",
       "      <td>1</td>\n",
       "      <td>0</td>\n",
       "      <td>0</td>\n",
       "      <td>...</td>\n",
       "      <td>0</td>\n",
       "      <td>1</td>\n",
       "      <td>0</td>\n",
       "      <td>0</td>\n",
       "      <td>1</td>\n",
       "      <td>0</td>\n",
       "      <td>1</td>\n",
       "      <td>0</td>\n",
       "      <td>1</td>\n",
       "      <td>0</td>\n",
       "    </tr>\n",
       "  </tbody>\n",
       "</table>\n",
       "<p>5 rows × 57 columns</p>\n",
       "</div>"
      ],
      "text/plain": [
       "   ns2            ns5  ns8  ns11  s13  ns16  ns18  A11  A12  A13  ...   A152  \\\n",
       "0    6  -55791.969590    4     4   67     2     1    1    0    0  ...      1   \n",
       "1   48  175534.372043    2     2   22     1     1    0    1    0  ...      1   \n",
       "2   12  113183.147343    2     3   49     1     2    0    0    0  ...      1   \n",
       "3   42  104641.406824    2     4   45     1     2    1    0    0  ...      0   \n",
       "4   24  157006.080062    3     4   53     2     2    1    0    0  ...      0   \n",
       "\n",
       "   A153  A171  A172  A173  A174  A191  A192  A201  A202  \n",
       "0     0     0     0     1     0     0     1     1     0  \n",
       "1     0     0     0     1     0     1     0     1     0  \n",
       "2     0     0     1     0     0     1     0     1     0  \n",
       "3     1     0     0     1     0     1     0     1     0  \n",
       "4     1     0     0     1     0     1     0     1     0  \n",
       "\n",
       "[5 rows x 57 columns]"
      ]
     },
     "execution_count": 14,
     "metadata": {},
     "output_type": "execute_result"
    }
   ],
   "source": [
    "X_train_fiddled.head()"
   ]
  },
  {
   "cell_type": "markdown",
   "metadata": {},
   "source": [
    "This doesn't make sense to me, as I computed elsewhere (in my compute_mutual_information notebook) that the mutual information between the target and feature `ns5` is high, and so prediction accuracy should be affected if it is randomised. I do not know why this happened :("
   ]
  },
  {
   "cell_type": "markdown",
   "metadata": {
    "collapsed": true
   },
   "source": [
    "## 3. neural networks playground"
   ]
  },
  {
   "cell_type": "code",
   "execution_count": 15,
   "metadata": {},
   "outputs": [
    {
     "name": "stdout",
     "output_type": "stream",
     "text": [
      "Train on 800 samples, validate on 100 samples\n",
      "Epoch 1/100\n",
      "800/800 [==============================] - 1s 690us/step - loss: 0.2988 - val_loss: 0.2900\n",
      "Epoch 2/100\n",
      "800/800 [==============================] - 0s 69us/step - loss: 0.2988 - val_loss: 0.2900\n",
      "Epoch 3/100\n",
      "800/800 [==============================] - 0s 79us/step - loss: 0.2987 - val_loss: 0.2900\n",
      "Epoch 4/100\n",
      "800/800 [==============================] - 0s 80us/step - loss: 0.2988 - val_loss: 0.2900\n",
      "Epoch 5/100\n",
      "800/800 [==============================] - 0s 83us/step - loss: 0.2988 - val_loss: 0.2900\n",
      "Epoch 6/100\n",
      "800/800 [==============================] - 0s 94us/step - loss: 0.2988 - val_loss: 0.2900\n",
      "Epoch 00006: early stopping\n"
     ]
    }
   ],
   "source": [
    "from keras.models import Sequential\n",
    "from keras.layers import Dense\n",
    "\n",
    "# create model\n",
    "model = ks.Sequential()\n",
    "model.add(ks.layers.Dense(200, activation='relu', input_shape=(57,)))\n",
    "model.add(ks.layers.Dense(100, activation='relu'))\n",
    "model.add(ks.layers.Dense(50, activation='relu'))\n",
    "model.add(ks.layers.Dense(1, activation='sigmoid'))\n",
    "# early stopping\n",
    "es = ks.callbacks.EarlyStopping(monitor='val_loss',\n",
    "                              min_delta=0,\n",
    "                              patience=5,\n",
    "                              verbose=1, mode='auto')\n",
    "# compile model\n",
    "model.compile(loss='mean_squared_error', optimizer='adam')\n",
    "# fit the model\n",
    "history = model.fit(X_train, y_train, epochs=100, batch_size=50, verbose=1, \n",
    "          callbacks=[es], validation_split=0.5, validation_data=(X_val, y_val))"
   ]
  },
  {
   "cell_type": "code",
   "execution_count": 16,
   "metadata": {},
   "outputs": [
    {
     "name": "stdout",
     "output_type": "stream",
     "text": [
      "100/100 [==============================] - 0s 141us/step\n",
      "800/800 [==============================] - 0s 54us/step\n",
      "0.29 0.29875\n",
      "dict_keys(['val_loss', 'loss'])\n"
     ]
    },
    {
     "data": {
      "image/png": "[encoded data removed]",
      "text/plain": [
       "<matplotlib.figure.Figure at 0x10df18e48>"
      ]
     },
     "metadata": {},
     "output_type": "display_data"
    }
   ],
   "source": [
    "# evaluate the model\n",
    "val_loss = model.evaluate(X_val, y_val)\n",
    "train_loss = model.evaluate(X_train, y_train)\n",
    "print(val_loss, train_loss)\n",
    "# history\n",
    "print(history.history.keys())\n",
    "# summarize history for accuracy\n",
    "plt.plot(history.history['loss'])\n",
    "plt.plot(history.history['val_loss'])\n",
    "plt.title('model loss')\n",
    "plt.ylabel('loss')\n",
    "plt.xlabel('epoch')\n",
    "plt.legend(['train', 'val'], loc='upper right')\n",
    "plt.show()"
   ]
  },
  {
   "cell_type": "code",
   "execution_count": 17,
   "metadata": {},
   "outputs": [
    {
     "name": "stdout",
     "output_type": "stream",
     "text": [
      "[[0.]\n",
      " [0.]\n",
      " [0.]\n",
      " [0.]\n",
      " [0.]]\n",
      "500    1\n",
      "501    0\n",
      "502    0\n",
      "503    1\n",
      "504    1\n",
      "Name: y, dtype: int64\n"
     ]
    }
   ],
   "source": [
    "print(model.predict(X_train[500:505]))\n",
    "print(y_train[500:505])"
   ]
  },
  {
   "cell_type": "markdown",
   "metadata": {},
   "source": [
    "## Random interlude: boostrapping!"
   ]
  },
  {
   "cell_type": "code",
   "execution_count": 18,
   "metadata": {
    "collapsed": true
   },
   "outputs": [],
   "source": [
    "base_scores = np.abs(model.predict(X_val) - y_val.values.reshape((100,1)))"
   ]
  },
  {
   "cell_type": "code",
   "execution_count": 19,
   "metadata": {
    "collapsed": true
   },
   "outputs": [],
   "source": [
    "def permute(x):\n",
    "    n = len(x)\n",
    "    score = 0\n",
    "    for i in range(n):\n",
    "        index = np.random.randint(n)\n",
    "        score += x[index]\n",
    "    return score\n",
    "\n",
    "def bootstrap(x, number_of_times):\n",
    "    histogram = np.zeros((number_of_times, 1))\n",
    "    for i in range(number_of_times):\n",
    "        histogram[i] = permute(x)\n",
    "    return histogram"
   ]
  },
  {
   "cell_type": "code",
   "execution_count": 20,
   "metadata": {
    "collapsed": true
   },
   "outputs": [],
   "source": [
    "distribution = bootstrap(base_scores, 10000)"
   ]
  },
  {
   "cell_type": "code",
   "execution_count": 21,
   "metadata": {
    "scrolled": true
   },
   "outputs": [
    {
     "data": {
      "image/png": "[encoded data removed]",
      "text/plain": [
       "<matplotlib.figure.Figure at 0x1249e7320>"
      ]
     },
     "metadata": {},
     "output_type": "display_data"
    }
   ],
   "source": [
    "plt.hist(distribution, 20)\n",
    "plt.title(\"My first bootstrap\")\n",
    "plt.ylabel(\"Iterations\")\n",
    "plt.xlabel(\"Error in %\")\n",
    "plt.show()"
   ]
  },
  {
   "cell_type": "code",
   "execution_count": 22,
   "metadata": {},
   "outputs": [
    {
     "name": "stdout",
     "output_type": "stream",
     "text": [
      "Average error is 28.9845 with variance 20.741659750000004\n"
     ]
    }
   ],
   "source": [
    "average = np.average(distribution)\n",
    "var = np.var(distribution)\n",
    "print(\"Average error is\", average, \"with variance\", var)"
   ]
  },
  {
   "cell_type": "code",
   "execution_count": 23,
   "metadata": {},
   "outputs": [
    {
     "name": "stdout",
     "output_type": "stream",
     "text": [
      "Index(['ns2', 'ns5', 'ns8', 'ns11', 's13', 'ns16', 'ns18', 'A11', 'A12', 'A13',\n",
      "       'A14', 'A30', 'A31', 'A32', 'A33', 'A34', 'A40', 'A41', 'A410', 'A42',\n",
      "       'A43', 'A44', 'A45', 'A46', 'A48', 'A49', 'A61', 'A62', 'A63', 'A64',\n",
      "       'A65', 'A71', 'A72', 'A73', 'A74', 'A75', 'A101', 'A102', 'A103',\n",
      "       'A121', 'A122', 'A123', 'A124', 'A141', 'A142', 'A143', 'A151', 'A152',\n",
      "       'A153', 'A171', 'A172', 'A173', 'A174', 'A191', 'A192', 'A201', 'A202'],\n",
      "      dtype='object')\n"
     ]
    }
   ],
   "source": [
    "print(X_train.columns)"
   ]
  },
  {
   "cell_type": "code",
   "execution_count": null,
   "metadata": {
    "collapsed": true
   },
   "outputs": [],
   "source": []
  },
  {
   "cell_type": "markdown",
   "metadata": {},
   "source": [
    "# To do \n",
    "\n",
    "look into GANs to augment data \n",
    "read a paper real quick\n",
    "\n"
   ]
  },
  {
   "cell_type": "code",
   "execution_count": null,
   "metadata": {
    "collapsed": true
   },
   "outputs": [],
   "source": []
  },
  {
   "cell_type": "code",
   "execution_count": null,
   "metadata": {
    "collapsed": true
   },
   "outputs": [],
   "source": []
  },
  {
   "cell_type": "code",
   "execution_count": 24,
   "metadata": {},
   "outputs": [
    {
     "name": "stdout",
     "output_type": "stream",
     "text": [
      "(800,)\n"
     ]
    }
   ],
   "source": [
    "print(np.shape(np.transpose(np.random.randn(800))))"
   ]
  },
  {
   "cell_type": "code",
   "execution_count": 25,
   "metadata": {},
   "outputs": [
    {
     "data": {
      "image/png": "[encoded data removed]",
      "text/plain": [
       "<matplotlib.figure.Figure at 0x12496ac50>"
      ]
     },
     "metadata": {},
     "output_type": "display_data"
    }
   ],
   "source": [
    "plt.hist(np.random.randn(800))\n",
    "plt.show()"
   ]
  },
  {
   "cell_type": "markdown",
   "metadata": {},
   "source": [
    "# Show that model can predict someones sex based on other features"
   ]
  },
  {
   "cell_type": "code",
   "execution_count": 26,
   "metadata": {},
   "outputs": [
    {
     "data": {
      "text/html": [
       "<div>\n",
       "<style>\n",
       "    .dataframe thead tr:only-child th {\n",
       "        text-align: right;\n",
       "    }\n",
       "\n",
       "    .dataframe thead th {\n",
       "        text-align: left;\n",
       "    }\n",
       "\n",
       "    .dataframe tbody tr th {\n",
       "        vertical-align: top;\n",
       "    }\n",
       "</style>\n",
       "<table border=\"1\" class=\"dataframe\">\n",
       "  <thead>\n",
       "    <tr style=\"text-align: right;\">\n",
       "      <th></th>\n",
       "      <th>ns2</th>\n",
       "      <th>ns5</th>\n",
       "      <th>ns8</th>\n",
       "      <th>ns11</th>\n",
       "      <th>s13</th>\n",
       "      <th>ns16</th>\n",
       "      <th>ns18</th>\n",
       "      <th>A11</th>\n",
       "      <th>A12</th>\n",
       "      <th>A13</th>\n",
       "      <th>...</th>\n",
       "      <th>A152</th>\n",
       "      <th>A153</th>\n",
       "      <th>A171</th>\n",
       "      <th>A172</th>\n",
       "      <th>A173</th>\n",
       "      <th>A174</th>\n",
       "      <th>A191</th>\n",
       "      <th>A192</th>\n",
       "      <th>A201</th>\n",
       "      <th>A202</th>\n",
       "    </tr>\n",
       "  </thead>\n",
       "  <tbody>\n",
       "    <tr>\n",
       "      <th>0</th>\n",
       "      <td>6</td>\n",
       "      <td>1169</td>\n",
       "      <td>4</td>\n",
       "      <td>4</td>\n",
       "      <td>67</td>\n",
       "      <td>2</td>\n",
       "      <td>1</td>\n",
       "      <td>1</td>\n",
       "      <td>0</td>\n",
       "      <td>0</td>\n",
       "      <td>...</td>\n",
       "      <td>1</td>\n",
       "      <td>0</td>\n",
       "      <td>0</td>\n",
       "      <td>0</td>\n",
       "      <td>1</td>\n",
       "      <td>0</td>\n",
       "      <td>0</td>\n",
       "      <td>1</td>\n",
       "      <td>1</td>\n",
       "      <td>0</td>\n",
       "    </tr>\n",
       "    <tr>\n",
       "      <th>1</th>\n",
       "      <td>48</td>\n",
       "      <td>5951</td>\n",
       "      <td>2</td>\n",
       "      <td>2</td>\n",
       "      <td>22</td>\n",
       "      <td>1</td>\n",
       "      <td>1</td>\n",
       "      <td>0</td>\n",
       "      <td>1</td>\n",
       "      <td>0</td>\n",
       "      <td>...</td>\n",
       "      <td>1</td>\n",
       "      <td>0</td>\n",
       "      <td>0</td>\n",
       "      <td>0</td>\n",
       "      <td>1</td>\n",
       "      <td>0</td>\n",
       "      <td>1</td>\n",
       "      <td>0</td>\n",
       "      <td>1</td>\n",
       "      <td>0</td>\n",
       "    </tr>\n",
       "    <tr>\n",
       "      <th>2</th>\n",
       "      <td>12</td>\n",
       "      <td>2096</td>\n",
       "      <td>2</td>\n",
       "      <td>3</td>\n",
       "      <td>49</td>\n",
       "      <td>1</td>\n",
       "      <td>2</td>\n",
       "      <td>0</td>\n",
       "      <td>0</td>\n",
       "      <td>0</td>\n",
       "      <td>...</td>\n",
       "      <td>1</td>\n",
       "      <td>0</td>\n",
       "      <td>0</td>\n",
       "      <td>1</td>\n",
       "      <td>0</td>\n",
       "      <td>0</td>\n",
       "      <td>1</td>\n",
       "      <td>0</td>\n",
       "      <td>1</td>\n",
       "      <td>0</td>\n",
       "    </tr>\n",
       "    <tr>\n",
       "      <th>3</th>\n",
       "      <td>42</td>\n",
       "      <td>7882</td>\n",
       "      <td>2</td>\n",
       "      <td>4</td>\n",
       "      <td>45</td>\n",
       "      <td>1</td>\n",
       "      <td>2</td>\n",
       "      <td>1</td>\n",
       "      <td>0</td>\n",
       "      <td>0</td>\n",
       "      <td>...</td>\n",
       "      <td>0</td>\n",
       "      <td>1</td>\n",
       "      <td>0</td>\n",
       "      <td>0</td>\n",
       "      <td>1</td>\n",
       "      <td>0</td>\n",
       "      <td>1</td>\n",
       "      <td>0</td>\n",
       "      <td>1</td>\n",
       "      <td>0</td>\n",
       "    </tr>\n",
       "    <tr>\n",
       "      <th>4</th>\n",
       "      <td>24</td>\n",
       "      <td>4870</td>\n",
       "      <td>3</td>\n",
       "      <td>4</td>\n",
       "      <td>53</td>\n",
       "      <td>2</td>\n",
       "      <td>2</td>\n",
       "      <td>1</td>\n",
       "      <td>0</td>\n",
       "      <td>0</td>\n",
       "      <td>...</td>\n",
       "      <td>0</td>\n",
       "      <td>1</td>\n",
       "      <td>0</td>\n",
       "      <td>0</td>\n",
       "      <td>1</td>\n",
       "      <td>0</td>\n",
       "      <td>1</td>\n",
       "      <td>0</td>\n",
       "      <td>1</td>\n",
       "      <td>0</td>\n",
       "    </tr>\n",
       "  </tbody>\n",
       "</table>\n",
       "<p>5 rows × 57 columns</p>\n",
       "</div>"
      ],
      "text/plain": [
       "   ns2   ns5  ns8  ns11  s13  ns16  ns18  A11  A12  A13  ...   A152  A153  \\\n",
       "0    6  1169    4     4   67     2     1    1    0    0  ...      1     0   \n",
       "1   48  5951    2     2   22     1     1    0    1    0  ...      1     0   \n",
       "2   12  2096    2     3   49     1     2    0    0    0  ...      1     0   \n",
       "3   42  7882    2     4   45     1     2    1    0    0  ...      0     1   \n",
       "4   24  4870    3     4   53     2     2    1    0    0  ...      0     1   \n",
       "\n",
       "   A171  A172  A173  A174  A191  A192  A201  A202  \n",
       "0     0     0     1     0     0     1     1     0  \n",
       "1     0     0     1     0     1     0     1     0  \n",
       "2     0     1     0     0     1     0     1     0  \n",
       "3     0     0     1     0     1     0     1     0  \n",
       "4     0     0     1     0     1     0     1     0  \n",
       "\n",
       "[5 rows x 57 columns]"
      ]
     },
     "execution_count": 26,
     "metadata": {},
     "output_type": "execute_result"
    }
   ],
   "source": [
    "X_train.head()"
   ]
  },
  {
   "cell_type": "code",
   "execution_count": 27,
   "metadata": {},
   "outputs": [
    {
     "name": "stdout",
     "output_type": "stream",
     "text": [
      "0.79\n",
      "[[-1.43352611e-02  1.98813279e-04  3.69527786e-01  5.12321792e-03\n",
      "   1.69435786e-02  4.76231759e-02  1.77272264e+00 -3.82873033e-01\n",
      "  -2.78714902e-01  6.02742442e-02 -1.73570306e-01  8.10611685e-02\n",
      "  -6.61966512e-01 -3.00358714e-01  2.78836015e-01 -1.72455955e-01\n",
      "  -6.70532424e-02  2.54777199e-01  1.68490907e-01  4.95848286e-03\n",
      "  -5.49909874e-02 -1.50380479e-01 -2.20097001e-01 -3.77192250e-01\n",
      "  -3.40370904e-01  6.97427776e-03 -9.91830362e-02 -3.11257906e-01\n",
      "   2.00611660e-01 -5.79067670e-01  1.40129543e-02 -3.15627975e-01\n",
      "  -8.35647079e-01 -6.77512568e-02  2.01951304e-01  2.42191008e-01\n",
      "  -4.75712748e-01 -8.86973535e-02 -2.10473897e-01 -4.83368026e-01\n",
      "  -1.76930769e-01 -2.48348243e-01  1.33763040e-01 -4.01067178e-01\n",
      "   4.94074721e-02 -4.23224292e-01 -8.83448766e-01  1.27259212e-01\n",
      "  -1.86944437e-02 -2.97994701e-02 -2.23502976e-01 -1.08163151e-01\n",
      "  -4.13418401e-01 -3.61225760e-01 -4.13658237e-01 -7.51499821e-01\n",
      "  -2.33841770e-02]]\n"
     ]
    },
    {
     "data": {
      "text/plain": [
       "Index(['ns2', 'ns5', 'ns8', 'ns11', 's13', 'ns16', 'ns18', 'A11', 'A12', 'A13',\n",
       "       'A14', 'A30', 'A31', 'A32', 'A33', 'A34', 'A40', 'A41', 'A410', 'A42',\n",
       "       'A43', 'A44', 'A45', 'A46', 'A48', 'A49', 'A61', 'A62', 'A63', 'A64',\n",
       "       'A65', 'A71', 'A72', 'A73', 'A74', 'A75', 'A101', 'A102', 'A103',\n",
       "       'A121', 'A122', 'A123', 'A124', 'A141', 'A142', 'A143', 'A151', 'A152',\n",
       "       'A153', 'A171', 'A172', 'A173', 'A174', 'A191', 'A192', 'A201', 'A202'],\n",
       "      dtype='object')"
      ]
     },
     "execution_count": 27,
     "metadata": {},
     "output_type": "execute_result"
    }
   ],
   "source": [
    "model_unfiddled = fit_logistic_regression(X_train, sensitive[0:800])\n",
    "\n",
    "print(model_unfiddled.score(X_val, sensitive[800:900]))\n",
    "print(model_unfiddled.coef_)\n",
    "X_val.columns"
   ]
  },
  {
   "cell_type": "code",
   "execution_count": 28,
   "metadata": {},
   "outputs": [
    {
     "name": "stdout",
     "output_type": "stream",
     "text": [
      "0.79\n",
      "[[-1.44990989e-02  2.00551341e-04  3.71235615e-01  7.83729756e-03\n",
      "   1.69528794e-02  2.07427267e-02  1.73453617e+00 -3.81390683e-01\n",
      "  -2.87859575e-01  9.15967618e-02 -1.58811700e-01  9.36780318e-02\n",
      "  -6.27581720e-01 -3.08293265e-01  2.87913611e-01 -1.82181854e-01\n",
      "  -8.74194202e-02  2.30183662e-01  1.31112755e-01  8.12801842e-03\n",
      "  -5.82515670e-02 -1.33153045e-01 -1.65139923e-01 -3.79049625e-01\n",
      "  -2.77643321e-01 -5.23273115e-03 -1.04157447e-01 -3.15514398e-01\n",
      "   2.04756141e-01 -5.40692957e-01  1.91434648e-02 -2.90008761e-01\n",
      "  -8.04893795e-01 -8.10371543e-02  1.90956821e-01  2.48517693e-01\n",
      "  -4.83116522e-01 -7.47929145e-02 -1.78555760e-01 -4.64504396e-01\n",
      "  -1.62569953e-01 -2.09786622e-01  1.00395774e-01 -3.92224730e-01\n",
      "   7.67713500e-02 -4.21011816e-01 -8.80776765e-01  1.16820935e-01\n",
      "   2.74906336e-02 -4.35767681e-02 -2.00945056e-01 -8.57004435e-02\n",
      "  -4.06242929e-01 -3.52796559e-01 -3.83668637e-01 -7.73894859e-01\n",
      "   3.74296631e-02]]\n"
     ]
    }
   ],
   "source": [
    "model_unfiddled = fit_logistic_regression(X_train, sensitive[0:800])\n",
    "\n",
    "print(model_unfiddled.score(X_val, sensitive[800:900]))\n",
    "print(model_unfiddled.coef_)\n"
   ]
  },
  {
   "cell_type": "markdown",
   "metadata": {},
   "source": [
    "So note that a standard logistic regression is capable of accurately classifying an individual by sex using her other attributes roughly 80% of the time. "
   ]
  },
  {
   "cell_type": "markdown",
   "metadata": {},
   "source": [
    "# Playing with an SVD"
   ]
  },
  {
   "cell_type": "code",
   "execution_count": 29,
   "metadata": {},
   "outputs": [],
   "source": [
    "U, s, V = np.linalg.svd(X_train, full_matrices=False)\n",
    "U_val, s_val, V_val = np.linalg.svd(X_val, full_matrices=False)"
   ]
  },
  {
   "cell_type": "code",
   "execution_count": 30,
   "metadata": {},
   "outputs": [],
   "source": [
    "s1 = np.copy(s)\n",
    "s2 = np.copy(s)\n",
    "s3 = np.copy(s)\n",
    "\n",
    "s1[1:-1] = 0\n",
    "s2[5:-1] = 0\n",
    "s3[10:-1] = 0\n",
    "\n",
    "reconstructed1 = U@np.diag(s1)@V\n",
    "reconstructed2 = U@np.diag(s2)@V\n",
    "reconstructed3 = U@np.diag(s3)@V\n",
    "\n",
    "s1_val = np.copy(s_val)\n",
    "s2_val = np.copy(s_val)\n",
    "s3_val = np.copy(s_val)\n",
    "\n",
    "s1_val[1:-1] = 0\n",
    "s2_val[5:-1] = 0\n",
    "s3_val[10:-1] = 0\n",
    "\n",
    "reconstructed1_val = U_val@np.diag(s1_val)@V_val\n",
    "reconstructed2_val = U_val@np.diag(s2_val)@V_val\n",
    "reconstructed3_val = U_val@np.diag(s3_val)@V_val"
   ]
  },
  {
   "cell_type": "code",
   "execution_count": 31,
   "metadata": {},
   "outputs": [
    {
     "name": "stdout",
     "output_type": "stream",
     "text": [
      "811.3338270715302\n",
      "73.4956242952245\n",
      "58.83354375084583\n"
     ]
    }
   ],
   "source": [
    "print(np.linalg.norm(reconstructed1-X_train))\n",
    "print(np.linalg.norm(reconstructed2-X_train))\n",
    "print(np.linalg.norm(reconstructed3-X_train))"
   ]
  },
  {
   "cell_type": "code",
   "execution_count": 32,
   "metadata": {},
   "outputs": [
    {
     "name": "stdout",
     "output_type": "stream",
     "text": [
      "[3.87443787e+01 7.88197737e+03 3.86472035e+00 4.10725532e+00\n",
      " 5.07369777e+01 2.01427849e+00 1.64056570e+00 3.55513278e-01\n",
      " 4.78817688e-01 6.45896272e-02 5.26899475e-01 8.95389377e-02\n",
      " 6.91164951e-02 6.94964030e-01 1.65299000e-01 4.06901605e-01\n",
      " 3.05028455e-01 2.28442847e-01 3.58738840e-02 2.40436836e-01\n",
      " 3.17849267e-01 7.10128685e-03 3.13384052e-02 7.99068845e-02\n",
      " 5.56314069e-03 1.74279061e-01 8.20881156e-01 1.75965959e-01\n",
      " 6.32094215e-02 5.97124479e-02 3.06051084e-01 1.03544134e-01\n",
      " 2.26155463e-01 4.65947566e-01 2.71197503e-01 3.58975401e-01\n",
      " 1.29371422e+00 7.36285820e-02 5.84772678e-02 2.75344298e-01\n",
      " 2.91747212e-01 5.06704672e-01 3.52023885e-01 2.14460372e-01\n",
      " 6.81035623e-02 1.14325613e+00 2.43128524e-01 9.37361657e-01\n",
      " 2.45329886e-01 2.52811673e-02 2.13476992e-01 8.31395842e-01\n",
      " 3.55666066e-01 6.77322498e-01 7.48497569e-01 1.39376240e+00\n",
      " 3.20576672e-02]\n",
      "   ns2   ns5  ns8  ns11  s13  ns16  ns18  A11  A12  A13  ...   A152  A153  \\\n",
      "3   42  7882    2     4   45     1     2    1    0    0  ...      0     1   \n",
      "\n",
      "   A171  A172  A173  A174  A191  A192  A201  A202  \n",
      "3     0     0     1     0     1     0     1     0  \n",
      "\n",
      "[1 rows x 57 columns]\n"
     ]
    }
   ],
   "source": [
    "print(reconstructed1[3])\n",
    "print(X_train.iloc[[3]])"
   ]
  },
  {
   "cell_type": "code",
   "execution_count": 34,
   "metadata": {},
   "outputs": [
    {
     "name": "stdout",
     "output_type": "stream",
     "text": [
      "0.72 first model\n",
      "0.73 second model\n",
      "0.77 third model\n"
     ]
    }
   ],
   "source": [
    "model_run1 = fit_logistic_regression(reconstructed1, y_train)\n",
    "model_run2 = fit_logistic_regression(reconstructed2, y_train)\n",
    "model_run3 = fit_logistic_regression(reconstructed3, y_train)\n",
    "\n",
    "print(model_run1.score(reconstructed1_val, y_val), \"first model\")\n",
    "print(model_run2.score(reconstructed2_val, y_val), \"second model\")\n",
    "print(model_run3.score(reconstructed3_val, y_val), \"third model\")"
   ]
  },
  {
   "cell_type": "markdown",
   "metadata": {},
   "source": [
    "# Make sure all is well and nobody is discriminating:"
   ]
  },
  {
   "cell_type": "code",
   "execution_count": 60,
   "metadata": {},
   "outputs": [],
   "source": [
    "evaluate = pd.DataFrame(raw_data)\n",
    "#get indices\n",
    "females1 = evaluate['s9']=='A92'\n",
    "females2 = evaluate['s9']=='A95'\n",
    "males1 = evaluate['s9']=='A91'\n",
    "males2 = evaluate['s9']=='A93'\n",
    "males3 = evaluate['s9']=='A94'"
   ]
  },
  {
   "cell_type": "code",
   "execution_count": 69,
   "metadata": {},
   "outputs": [
    {
     "name": "stdout",
     "output_type": "stream",
     "text": [
      "0.71\n"
     ]
    },
    {
     "name": "stderr",
     "output_type": "stream",
     "text": [
      "/anaconda/envs/mlp/lib/python3.6/site-packages/ipykernel_launcher.py:1: FutureWarning: reshape is deprecated and will raise in a subsequent release. Please use .values.reshape(...) instead\n",
      "  \"\"\"Entry point for launching an IPython kernel.\n",
      "/anaconda/envs/mlp/lib/python3.6/site-packages/ipykernel_launcher.py:2: FutureWarning: reshape is deprecated and will raise in a subsequent release. Please use .values.reshape(...) instead\n",
      "  \n"
     ]
    }
   ],
   "source": [
    "flunk= fit_logistic_regression(females1[0:800].reshape(-1, 1), evaluate['y'][0:800])\n",
    "print(flunk.score(females1[800:900].reshape(-1, 1), evaluate['y'][800:900]))"
   ]
  },
  {
   "cell_type": "code",
   "execution_count": null,
   "metadata": {
    "collapsed": true
   },
   "outputs": [],
   "source": []
  }
 ],
 "metadata": {
  "kernelspec": {
   "display_name": "Python 3",
   "language": "python",
   "name": "python3"
  },
  "language_info": {
   "codemirror_mode": {
    "name": "ipython",
    "version": 3
   },
   "file_extension": ".py",
   "mimetype": "text/x-python",
   "name": "python",
   "nbconvert_exporter": "python",
   "pygments_lexer": "ipython3",
   "version": "3.6.2"
  }
 },
 "nbformat": 4,
 "nbformat_minor": 2
}
