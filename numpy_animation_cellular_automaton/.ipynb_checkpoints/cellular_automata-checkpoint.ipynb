{
 "cells": [
  {
   "cell_type": "markdown",
   "metadata": {},
   "source": [
    "# CELLULAR AUTOMATA"
   ]
  },
  {
   "cell_type": "markdown",
   "metadata": {},
   "source": [
    "***"
   ]
  },
  {
   "cell_type": "markdown",
   "metadata": {},
   "source": [
    "## 1) CONWAY'S GAME OF LIFE"
   ]
  },
  {
   "cell_type": "markdown",
   "metadata": {},
   "source": [
    "### Import packages to manipulate matrices and plot things nicely"
   ]
  },
  {
   "cell_type": "code",
   "execution_count": 8,
   "metadata": {},
   "outputs": [],
   "source": [
    "import cv2\n",
    "import numpy as np\n",
    "import matplotlib.pyplot as plt\n",
    "\n",
    "from matplotlib import animation, rc\n",
    "from matplotlib.animation import FuncAnimation\n",
    "from IPython.display import HTML\n",
    "from time import time\n",
    "from tqdm import tqdm"
   ]
  },
  {
   "cell_type": "markdown",
   "metadata": {},
   "source": [
    "### Main function that, given a grid at time `t`, returns a grid at time `t+1`"
   ]
  },
  {
   "cell_type": "code",
   "execution_count": 2,
   "metadata": {},
   "outputs": [],
   "source": [
    "def iter_grid(old_grid): \n",
    "    '''\n",
    "    Given an old grid (matrix of numbers), return a new grid using Conway's game of life algorithm.\n",
    "    '''\n",
    "\n",
    "    new_grid = np.zeros(old_grid.shape) # Fill the new grid with zeros to start with \n",
    "    \n",
    "    # Iterate over every row (i) and column (j), except for the borders, which we don't touch\n",
    "    for i in range(1, rows-1): \n",
    "        for j in range(1, columns-1):\n",
    "            current_cell = old_grid[i, j]    # Get the value of the current grid\n",
    "            \n",
    "            num_neighbours = np.sum(old_grid[i-1:i+2, j-1:j+2]) - current_cell    # Get the number of alive \n",
    "                                                                                  # neighbours\n",
    "\n",
    "            # Conway's game of life algorithm: \n",
    "            # if a cell is dead and has3 neighbours, make it alive again\n",
    "            if current_cell == 0 and num_neighbours == 3:\n",
    "                new_grid[i, j] = 1\n",
    "            # if a cell is alive and has 2 or 3 neighbours, keep it alive\n",
    "            elif current_cell == 1 and (num_neighbours == 2 or num_neighbours ==3):\n",
    "                new_grid[i, j] = 1\n",
    "            # otherwise, kill the cell. this isn't strictly necessary, cuz all the cells are filled with \n",
    "            # zeros anyways from the np.zeros line above, but whatever. \n",
    "            else:\n",
    "                new_grid[i, j] = 0\n",
    "                \n",
    "    return new_grid"
   ]
  },
  {
   "cell_type": "markdown",
   "metadata": {},
   "source": [
    "### Plot an example of an initial situation, with a 15x15 matrix"
   ]
  },
  {
   "cell_type": "code",
   "execution_count": 3,
   "metadata": {
    "scrolled": true
   },
   "outputs": [
    {
     "name": "stdout",
     "output_type": "stream",
     "text": [
      "The grid:\n",
      "\n",
      " [[1 1 0 1 0 1 0 1 0 0 1 1 0 0 0]\n",
      " [1 1 1 0 1 0 1 0 1 0 1 1 1 1 0]\n",
      " [1 0 1 0 1 0 1 1 1 0 0 1 1 0 1]\n",
      " [0 1 0 0 0 0 1 1 0 1 1 1 1 1 0]\n",
      " [0 0 0 0 0 0 0 0 1 1 0 0 1 1 0]\n",
      " [1 1 1 0 1 1 0 0 0 1 0 0 1 0 1]\n",
      " [1 1 1 0 1 0 0 1 1 0 0 0 0 1 1]\n",
      " [0 1 0 1 1 0 1 0 1 1 0 1 1 1 1]\n",
      " [0 1 0 1 1 1 0 1 1 1 1 1 1 0 1]\n",
      " [1 0 1 1 0 0 0 0 0 0 0 0 0 1 1]\n",
      " [1 0 0 1 1 1 1 0 0 0 0 0 1 0 0]\n",
      " [0 1 0 1 1 0 1 0 1 1 1 0 1 1 0]\n",
      " [1 0 0 1 0 0 1 1 0 0 1 1 1 1 1]\n",
      " [1 0 1 0 0 1 0 0 1 0 0 1 0 1 1]\n",
      " [0 0 1 0 1 0 1 0 0 0 1 1 0 1 0]] \n",
      "\n",
      "becomes this, where each white square represents 0 and each black square represents 1\n",
      "\n"
     ]
    },
    {
     "data": {
      "image/png": "[encoded data removed]",
      "text/plain": [
       "<Figure size 432x288 with 1 Axes>"
      ]
     },
     "metadata": {
      "needs_background": "light"
     },
     "output_type": "display_data"
    }
   ],
   "source": [
    "# Initialise\n",
    "rows, columns = 15, 15\n",
    "grid = np.random.randint(0, 2, size=(rows, columns)) # Creates a 15x15 grid full of randomly placed 0s and 1s\n",
    "\n",
    "print(\"The grid:\\n\\n\", grid, \"\\n\")\n",
    "\n",
    "print(\"becomes this, where each white square represents 0 and each black square represents 1\\n\")\n",
    "\n",
    "plt.imshow(grid, cmap='Greys')\n",
    "plt.show()"
   ]
  },
  {
   "cell_type": "markdown",
   "metadata": {},
   "source": [
    "And after 1 iteration, we get a new grid"
   ]
  },
  {
   "cell_type": "code",
   "execution_count": 4,
   "metadata": {
    "scrolled": true
   },
   "outputs": [
    {
     "name": "stdout",
     "output_type": "stream",
     "text": [
      "[[0. 0. 0. 0. 0. 0. 0. 0. 0. 0. 0. 0. 0. 0. 0.]\n",
      " [0. 0. 0. 0. 1. 0. 0. 0. 1. 0. 0. 0. 0. 1. 0.]\n",
      " [0. 0. 1. 0. 0. 0. 0. 0. 0. 0. 0. 0. 0. 0. 0.]\n",
      " [0. 1. 0. 0. 0. 1. 1. 0. 0. 0. 0. 0. 0. 0. 0.]\n",
      " [0. 0. 1. 0. 0. 1. 1. 1. 0. 0. 0. 0. 0. 0. 0.]\n",
      " [0. 0. 1. 0. 1. 1. 0. 1. 0. 1. 0. 0. 1. 0. 0.]\n",
      " [0. 0. 0. 0. 0. 0. 1. 1. 0. 0. 1. 1. 0. 0. 0.]\n",
      " [0. 0. 0. 0. 0. 0. 1. 0. 0. 0. 0. 0. 0. 0. 0.]\n",
      " [0. 1. 0. 0. 0. 1. 1. 1. 0. 0. 0. 0. 0. 0. 0.]\n",
      " [0. 0. 0. 0. 0. 0. 0. 1. 1. 1. 1. 0. 0. 0. 0.]\n",
      " [0. 0. 0. 0. 0. 0. 1. 1. 0. 1. 0. 1. 1. 0. 0.]\n",
      " [0. 1. 0. 0. 0. 0. 0. 0. 1. 1. 1. 0. 0. 0. 0.]\n",
      " [0. 0. 0. 1. 0. 0. 1. 0. 0. 0. 0. 0. 0. 0. 0.]\n",
      " [0. 0. 1. 0. 1. 1. 0. 0. 0. 1. 0. 0. 0. 0. 0.]\n",
      " [0. 0. 0. 0. 0. 0. 0. 0. 0. 0. 0. 0. 0. 0. 0.]]\n"
     ]
    },
    {
     "data": {
      "image/png": "[encoded data removed]",
      "text/plain": [
       "<Figure size 432x288 with 1 Axes>"
      ]
     },
     "metadata": {
      "needs_background": "light"
     },
     "output_type": "display_data"
    }
   ],
   "source": [
    "new_grid = iter_grid(grid)  # Calls the function iter_grid defined above on the old grid, in order\n",
    "                            # to create a new grid using the Conway rules. \n",
    "\n",
    "print(new_grid)\n",
    "\n",
    "plt.imshow(new_grid, cmap='Greys')\n",
    "plt.show()"
   ]
  },
  {
   "cell_type": "markdown",
   "metadata": {},
   "source": [
    "## Create the animation"
   ]
  },
  {
   "cell_type": "code",
   "execution_count": 11,
   "metadata": {},
   "outputs": [
    {
     "name": "stderr",
     "output_type": "stream",
     "text": [
      "100%|██████████| 500/500 [01:50<00:00,  4.53it/s]\n"
     ]
    }
   ],
   "source": [
    "# First set up the figure, the axis, and the plot element we want to animate\n",
    "rows, columns = 50, 50\n",
    "grid = np.random.randint(0, 2, size=(rows, columns)) # Creates a rows x columns grid full of randomly placed\n",
    "                                                     # 0s and 1s\n",
    "\n",
    "# \n",
    "number_of_frames = 500\n",
    "start = time() \n",
    "\n",
    "for i in tqdm(range(number_of_frames)):\n",
    "    fig, ax = plt.subplots(figsize=(5, 5))\n",
    "    ax.set(xlim=(0, rows), ylim=(0, columns))\n",
    "    plt.axis('off')\n",
    "    grid = im.get_array()\n",
    "    grid = iter_grid(grid)\n",
    "    plt.imshow(grid, cmap='Greys')\n",
    "    plt.savefig(f'./images/conway_gol/{i:03d}.png')\n",
    "    plt.close()\n",
    "    \n",
    "\n",
    "### ALTERNATIVE METHOD ###\n",
    "### it's slightly faster, but harder to configure. it's easier to use ffmpeg manually on the images.\n",
    "    \n",
    "# # animation function.  This is called sequentially\n",
    "# def animate(i):\n",
    "#     grid=im.get_array()\n",
    "#     grid=iter_grid(grid)\n",
    "#     im.set_data(grid)\n",
    "    \n",
    "#     global number_of_frames, start\n",
    "#     if i % 50 == 0:\n",
    "#         print(f'frame {i}/{number_of_frames}, which took so far has taken {time() - start} seconds.')\n",
    "    \n",
    "#     return [im]\n",
    "\n",
    "# anim = animation.FuncAnimation(fig, animate, frames=number_of_frames, interval=20)\n",
    "\n",
    "# # save the animation as an mp4.  This requires ffmpeg, which you get by \n",
    "# # typing brew install ffmpeg a bunch of times in terminal until it works\n",
    "# anim.save(f'conway_game_of_life_{rows}x{columns}.mp4', fps=30, extra_args=['-vcodec', 'libx264'])\n",
    "\n",
    "# plt.show()"
   ]
  },
  {
   "cell_type": "markdown",
   "metadata": {},
   "source": [
    "***"
   ]
  },
  {
   "cell_type": "markdown",
   "metadata": {},
   "source": [
    "## 2) LANGTON'S ANTS"
   ]
  },
  {
   "cell_type": "markdown",
   "metadata": {},
   "source": [
    "## Main 2 functions that, given a grid at time `t`, return a grid at time `t+1`"
   ]
  },
  {
   "cell_type": "code",
   "execution_count": null,
   "metadata": {},
   "outputs": [],
   "source": [
    "def new_xy(ant_x, ant_y, direction):\n",
    "    '''\n",
    "    If you give it an x and y value, and a direction, it will return the next x and y value of the ant.\n",
    "    Basically just moves the ant east (direction = 0), north (direction = 90), west (direction = 180), or \n",
    "    south (direction = 270).\n",
    "    '''\n",
    "    if direction == 0:\n",
    "        return (ant_x + 1, ant_y)\n",
    "    if direction == 90:\n",
    "        return (ant_x, ant_y - 1)\n",
    "    if direction == 180:\n",
    "        return (ant_x - 1, ant_y)\n",
    "    if direction == 270:\n",
    "        return (ant_x, ant_y + 1)\n",
    "\n",
    "def next_ant_step(grid, ant_x, ant_y, ant_direction):\n",
    "    \n",
    "    new_grid = np.copy(grid)\n",
    "    \n",
    "    # If the current cell is black\n",
    "    if grid[ant_x, ant_y] == 1: \n",
    "        # turn left (90 degrees clockwise)\n",
    "        new_ant_direction =  (ant_direction + 90) % 360\n",
    "        new_grid[ant_x, ant_y] = 0 # change current cell back to white\n",
    "        \n",
    "        ant_x, ant_y = new_xy(ant_x, ant_y, new_ant_direction)    \n",
    "    # If the current cell is white\n",
    "    else: \n",
    "        # turn right (90 degrees counter-clockwise)\n",
    "        new_ant_direction =  (ant_direction - 90) % 360\n",
    "        new_grid[ant_x, ant_y] = 1 # change current cell back to black\n",
    "        \n",
    "        ant_x, ant_y = new_xy(ant_x, ant_y, new_ant_direction)\n",
    "        \n",
    "    return new_grid, ant_x, ant_y, new_ant_direction"
   ]
  },
  {
   "cell_type": "code",
   "execution_count": null,
   "metadata": {},
   "outputs": [],
   "source": [
    "# Initialise\n",
    "rows, columns = 15, 15\n",
    "grid = np.random.randint(0, 1, (rows, columns)) # Creates a 15x15 grid full of randomly placed 0s\n",
    "\n",
    "print(\"The grid:\\n\\n\", grid, \"\\n\")\n",
    "\n",
    "print(\"becomes this, where each white square represents 0 \\n\")\n",
    "\n",
    "plt.imshow(grid, cmap='Greys')\n",
    "plt.show()"
   ]
  },
  {
   "cell_type": "markdown",
   "metadata": {},
   "source": [
    "And if you start the grid off with some parameters, after 25 iterations you get the following grid"
   ]
  },
  {
   "cell_type": "code",
   "execution_count": null,
   "metadata": {},
   "outputs": [],
   "source": [
    "initial_x, initial_y = 7, 7    # start ant off in the middle of the grid\n",
    "grid[initial_x, initial_y] = 1 # black rather than white\n",
    "initial_direction = 90         # assume that the ant was pointing up\n",
    "num_iters = 25\n",
    "\n",
    "#first step\n",
    "grid, x, y, direction = next_ant_step(grid, initial_x, initial_y, initial_direction)\n",
    "\n",
    "for i in range(num_iters):\n",
    "    grid, x, y, direction = next_ant_step(grid, x, y, direction)\n",
    "\n",
    "plt.imshow(grid, cmap='Greys')\n",
    "plt.show()"
   ]
  },
  {
   "cell_type": "markdown",
   "metadata": {},
   "source": [
    "## Running the same animation code as before, you can make a video of the ant moving "
   ]
  },
  {
   "cell_type": "code",
   "execution_count": null,
   "metadata": {},
   "outputs": [],
   "source": [
    "rows, cols = 20, 20\n",
    "grid = np.random.randint(0, 1, (rows, cols)) # Creates a 15x15 grid full of randomly placed 0s\n",
    "\n",
    "x, y = 10, 10            # start ant off in the middle of the grid\n",
    "grid[x, y] = 1         # black rather than white\n",
    "direction = 90         # assume that the ant was pointing up\n",
    "\n",
    "# Define hyperparameters\n",
    "number_of_frames = 400\n",
    "start = time()\n",
    "\n",
    "\n",
    "\n",
    "\n",
    "for i in tqdm(range(number_of_frames)):\n",
    "    # Set up the figure\n",
    "    fig, ax = plt.subplots(figsize=(5, 5))\n",
    "    ax.set(xlim=(0, rows), ylim=(0, cols))\n",
    "    plt.axis('off')\n",
    "    grid, x, y, direction = next_ant_step(grid, x, y, direction)\n",
    "    plt.imshow(grid, cmap='Greys')\n",
    "    plt.savefig(f'./images/langtons_ants/{i:03d}.png')\n",
    "    plt.close()\n",
    "\n",
    "\n",
    "### ALTERNATIVE METHOD ###\n",
    "### it's slightly faster, but harder to configure. it's easier to use ffmpeg manually on the images.\n",
    "\n",
    "# # Set up animation function, which gets called sequentially\n",
    "# def animate_it(i):\n",
    "#     global number_of_frames, start\n",
    "#     global grid, x, y, direction\n",
    "\n",
    "#     grid, x, y, direction = next_ant_step(grid, x, y, direction)\n",
    "#     im.set_data(grid)\n",
    "    \n",
    "#     if i % 50 == 0:\n",
    "#         print(f'frame {i}/{number_of_frames}, which took so far has taken {time() - start} seconds.')\n",
    "\n",
    "# # Create animation\n",
    "# anim = FuncAnimation(fig, animate_it, interval=200, frames=number_of_frames)\n",
    "\n",
    "# # Save animation\n",
    "# anim.save(f'langton_ants_{rows}x{cols}.mp4', fps=30, extra_args=['-vcodec', 'libx264'])\n",
    "    \n",
    "# # Show last picture of animation\n",
    "# plt.show()"
   ]
  },
  {
   "cell_type": "code",
   "execution_count": null,
   "metadata": {},
   "outputs": [],
   "source": []
  }
 ],
 "metadata": {
  "kernelspec": {
   "display_name": "Python 3",
   "language": "python",
   "name": "python3"
  },
  "language_info": {
   "codemirror_mode": {
    "name": "ipython",
    "version": 3
   },
   "file_extension": ".py",
   "mimetype": "text/x-python",
   "name": "python",
   "nbconvert_exporter": "python",
   "pygments_lexer": "ipython3",
   "version": "3.6.1"
  }
 },
 "nbformat": 4,
 "nbformat_minor": 2
}
