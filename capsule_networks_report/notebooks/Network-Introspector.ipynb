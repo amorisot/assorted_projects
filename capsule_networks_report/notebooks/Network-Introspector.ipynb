{
 "cells": [
  {
   "cell_type": "markdown",
   "metadata": {},
   "source": [
    "# Network Introspector\n",
    "\n",
    "This notebook had some code that was useful for me to debug a network.\n",
    "\n",
    "There might be totally easier ways to do this, but eh, I learned a lot."
   ]
  },
  {
   "cell_type": "code",
   "execution_count": 76,
   "metadata": {},
   "outputs": [
    {
     "name": "stdout",
     "output_type": "stream",
     "text": [
      "The autoreload extension is already loaded. To reload it, use:\n",
      "  %reload_ext autoreload\n"
     ]
    }
   ],
   "source": [
    "%load_ext autoreload\n",
    "%autoreload 2\n",
    "\n",
    "import sys\n",
    "sys.path.append(\"../scripts/runners\")\n",
    "\n",
    "import numpy as np\n",
    "import tensorflow as tf\n",
    "\n",
    "import run_from_config as run\n",
    "from layer_models import slow_get_result_of_layer_id"
   ]
  },
  {
   "cell_type": "code",
   "execution_count": 77,
   "metadata": {},
   "outputs": [
    {
     "name": "stdout",
     "output_type": "stream",
     "text": [
      "Conv2DLayer(assert_output_shape=[40, 40, 256], id=None, input_id=None, filter_count=256, kernel_length=9, strides=1, padding=None, activation='leaky_relu') Tensor(\"build_losses_ops/losses_ops/features_0/capsnet_mtlsmallnorb_weight_decoder_loss/augment_data/Merge:0\", shape=(50, 48, 48, 1), dtype=float32, device=/device:CPU:0)\n",
      "PrimaryCapsule(assert_output_shape=[8192, 8], id=None, input_id=None, caps_count=32, caps_dim=8, kernel_length=9, strides=2, activation='leaky_relu') Tensor(\"build_losses_ops/losses_ops/features_0/capsnet_mtlsmallnorb_weight_decoder_loss/layer_0__Conv2DLayer/conv2d/LeakyRelu/Maximum:0\", shape=(50, 40, 40, 256), dtype=float32, device=/device:CPU:0)\n",
      "OutCapsule(assert_output_shape=[8192, 5, 16, 1], id=None, input_id=None, caps_count=5, caps_dim=16) Tensor(\"build_losses_ops/losses_ops/features_0/capsnet_mtlsmallnorb_weight_decoder_loss/layer_1__PrimaryCapsule/caps_1_squash/mul:0\", shape=(50, 8192, 8), dtype=float32, device=/device:CPU:0)\n",
      "DynamicRouting(assert_output_shape=[1, 5, 16, 1], id='caps_routing_out', input_id=None, iterations=2) Tensor(\"build_losses_ops/losses_ops/features_0/capsnet_mtlsmallnorb_weight_decoder_loss/layer_2__OutCapsule/caps2_predicted:0\", shape=(50, 8192, 5, 16, 1), dtype=float32, device=/device:CPU:0)\n",
      "CapsulePrediction(assert_output_shape=[], id='caps_prediction', input_id=None) Tensor(\"build_losses_ops/losses_ops/features_0/capsnet_mtlsmallnorb_weight_decoder_loss/layer_3__DynamicRouting/caps2_output_round_2/mul:0\", shape=(50, 1, 5, 16, 1), dtype=float32, device=/device:CPU:0)\n",
      "CapsuleMasking(assert_output_shape=[1, 5, 16, 1], id='mask', input_id=None, routing_capsule_input_id=3) Tensor(\"build_losses_ops/losses_ops/features_0/capsnet_mtlsmallnorb_weight_decoder_loss/layer_4__CapsulePrediction/predicting/y_pred:0\", shape=(50,), dtype=int64, device=/device:CPU:0)\n",
      "ReshapeLayer(assert_output_shape=None, id=None, input_id=None, shape=[-1, 80]) Tensor(\"build_losses_ops/losses_ops/features_0/capsnet_mtlsmallnorb_weight_decoder_loss/layer_5__CapsuleMasking/caps_output_masked:0\", shape=(50, 1, 5, 16, 1), dtype=float32, device=/device:CPU:0)\n",
      "DenseLayer(assert_output_shape=[512], id=None, input_id=None, units=512, activation='leaky_relu') Tensor(\"build_losses_ops/losses_ops/features_0/capsnet_mtlsmallnorb_weight_decoder_loss/layer_6__ReshapeLayer/Reshape:0\", shape=(50, 80), dtype=float32, device=/device:CPU:0)\n",
      "DenseLayer(assert_output_shape=[1024], id=None, input_id=None, units=1024, activation='leaky_relu') Tensor(\"build_losses_ops/losses_ops/features_0/capsnet_mtlsmallnorb_weight_decoder_loss/layer_7__DenseLayer/leaky_relu7/Maximum:0\", shape=(50, 512), dtype=float32, device=/device:CPU:0)\n",
      "DenseLayer(assert_output_shape=[2304], id='decoder_output', input_id=None, units=2304, activation='sigmoid') Tensor(\"build_losses_ops/losses_ops/features_0/capsnet_mtlsmallnorb_weight_decoder_loss/layer_8__DenseLayer/leaky_relu8/Maximum:0\", shape=(50, 1024), dtype=float32, device=/device:CPU:0)\n",
      "ReshapeLayer(assert_output_shape=None, id=None, input_id=5, shape=[-1, 80]) Tensor(\"build_losses_ops/losses_ops/features_0/capsnet_mtlsmallnorb_weight_decoder_loss/layer_9__DenseLayer/sigmoid9:0\", shape=(50, 2304), dtype=float32, device=/device:CPU:0)\n",
      "DenseLayer(assert_output_shape=None, id=None, input_id=None, units=512, activation='leaky_relu') Tensor(\"build_losses_ops/losses_ops/features_0/capsnet_mtlsmallnorb_weight_decoder_loss/layer_10__ReshapeLayer/Reshape:0\", shape=(50, 80), dtype=float32, device=/device:CPU:0)\n",
      "DenseLayer(assert_output_shape=None, id='azimith_output', input_id=None, units=1, activation='leaky_relu') Tensor(\"build_losses_ops/losses_ops/features_0/capsnet_mtlsmallnorb_weight_decoder_loss/layer_11__DenseLayer/leaky_relu11/Maximum:0\", shape=(50, 512), dtype=float32, device=/device:CPU:0)\n",
      "<tf.Variable 'capsnet_mtlsmallnorb_weight_decoder_loss/layer_0__Conv2DLayer/conv2d/kernel:0' shape=(9, 9, 1, 256) dtype=float32_ref>\n",
      "<tf.Variable 'capsnet_mtlsmallnorb_weight_decoder_loss/layer_0__Conv2DLayer/conv2d/bias:0' shape=(256,) dtype=float32_ref>\n",
      "<tf.Variable 'capsnet_mtlsmallnorb_weight_decoder_loss/layer_1__PrimaryCapsule/conv2d/kernel:0' shape=(9, 9, 256, 256) dtype=float32_ref>\n",
      "<tf.Variable 'capsnet_mtlsmallnorb_weight_decoder_loss/layer_1__PrimaryCapsule/conv2d/bias:0' shape=(256,) dtype=float32_ref>\n",
      "<tf.Variable 'capsnet_mtlsmallnorb_weight_decoder_loss/layer_2__OutCapsule/W:0' shape=(1, 8192, 5, 16, 8) dtype=float32_ref>\n",
      "<tf.Variable 'capsnet_mtlsmallnorb_weight_decoder_loss/layer_7__DenseLayer/dense/kernel:0' shape=(80, 512) dtype=float32_ref>\n",
      "<tf.Variable 'capsnet_mtlsmallnorb_weight_decoder_loss/layer_7__DenseLayer/dense/bias:0' shape=(512,) dtype=float32_ref>\n",
      "<tf.Variable 'capsnet_mtlsmallnorb_weight_decoder_loss/layer_8__DenseLayer/dense/kernel:0' shape=(512, 1024) dtype=float32_ref>\n",
      "<tf.Variable 'capsnet_mtlsmallnorb_weight_decoder_loss/layer_8__DenseLayer/dense/bias:0' shape=(1024,) dtype=float32_ref>\n",
      "<tf.Variable 'capsnet_mtlsmallnorb_weight_decoder_loss/layer_9__DenseLayer/dense/kernel:0' shape=(1024, 2304) dtype=float32_ref>\n",
      "<tf.Variable 'capsnet_mtlsmallnorb_weight_decoder_loss/layer_9__DenseLayer/dense/bias:0' shape=(2304,) dtype=float32_ref>\n",
      "<tf.Variable 'capsnet_mtlsmallnorb_weight_decoder_loss/layer_11__DenseLayer/dense/kernel:0' shape=(80, 512) dtype=float32_ref>\n",
      "<tf.Variable 'capsnet_mtlsmallnorb_weight_decoder_loss/layer_11__DenseLayer/dense/bias:0' shape=(512,) dtype=float32_ref>\n",
      "<tf.Variable 'capsnet_mtlsmallnorb_weight_decoder_loss/layer_12__DenseLayer/dense/kernel:0' shape=(512, 1) dtype=float32_ref>\n",
      "<tf.Variable 'capsnet_mtlsmallnorb_weight_decoder_loss/layer_12__DenseLayer/dense/bias:0' shape=(1,) dtype=float32_ref>\n",
      "total of 13542913 variables\n",
      "optimizing with adam using OptimizerKwargs(learning_rate=0.0001, beta1=0.9)\n"
     ]
    }
   ],
   "source": [
    "NETWORK_CONFIG_LOCATION = '../scripts/runners/config/capsnet_mtlsmallnorb_weight_decoder_loss.yaml'\n",
    "\n",
    "tf.reset_default_graph()\n",
    "\n",
    "args = run.parse_args(['--network-config', NETWORK_CONFIG_LOCATION, '--debug'])\n",
    "network_config = run.parse_network_config(NETWORK_CONFIG_LOCATION, args)\n",
    "lazy_batch_processor_pair = run.build_network(network_config)\n",
    "variables = run.parameters_for_config_id(network_config)\n",
    "\n",
    "lazy_batch_processor = lazy_batch_processor_pair.train\n",
    "layer_features = lazy_batch_processor_pair.layer_features\n",
    "input_placeholder_for_gpus = lazy_batch_processor_pair.input_placeholder_for_gpus\n",
    "targets_placeholder_for_gpus = lazy_batch_processor_pair.targets_placeholder_for_gpus\n",
    "is_training_placeholder = lazy_batch_processor_pair.is_training_placeholder\n",
    "losses_ops = lazy_batch_processor_pair.losses_ops"
   ]
  },
  {
   "cell_type": "markdown",
   "metadata": {},
   "source": [
    "## Print the variables"
   ]
  },
  {
   "cell_type": "markdown",
   "metadata": {},
   "source": [
    "[n.name for n in tf.get_default_graph().as_graph_def().node]"
   ]
  },
  {
   "cell_type": "markdown",
   "metadata": {},
   "source": [
    "## Force variables\n",
    "\n",
    "This section assigns variables to some deterministic value (so don't use random initialization)."
   ]
  },
  {
   "cell_type": "code",
   "execution_count": 25,
   "metadata": {
    "scrolled": false
   },
   "outputs": [
    {
     "name": "stdout",
     "output_type": "stream",
     "text": [
      "[2 2 2 2 2 2 2 2 2 2 2 2 2 2 2 2 2 2 2 2 2 2 2 2 2 2 2 2 2 2 2 2 2 2 2 2 2\n",
      " 2 2 2 2 2 2 2 2 2 2 2 2 2]\n"
     ]
    }
   ],
   "source": [
    "x = tf.placeholder(tf.float32, shape=(1024, 1024))"
   ]
  },
  {
   "cell_type": "markdown",
   "metadata": {},
   "source": [
    "### Force variables, and set an intermediate layer output value"
   ]
  },
  {
   "cell_type": "code",
   "execution_count": 78,
   "metadata": {
    "scrolled": true
   },
   "outputs": [
    {
     "name": "stdout",
     "output_type": "stream",
     "text": [
      "[[ 0.27005124]\n",
      " [ 0.27005124]\n",
      " [ 0.27005124]\n",
      " [ 0.27005124]\n",
      " [ 0.27005124]\n",
      " [ 0.27005124]\n",
      " [ 0.27005124]\n",
      " [ 0.27005124]\n",
      " [ 0.27005124]\n",
      " [ 0.27005124]\n",
      " [ 0.27005124]\n",
      " [ 0.27005124]\n",
      " [ 0.27005124]\n",
      " [ 0.27005124]\n",
      " [ 0.27005124]\n",
      " [ 0.27005124]\n",
      " [ 0.27005124]\n",
      " [ 0.27005124]\n",
      " [ 0.27005124]\n",
      " [ 0.27005124]\n",
      " [ 0.27005124]\n",
      " [ 0.27005124]\n",
      " [ 0.27005124]\n",
      " [ 0.27005124]\n",
      " [ 0.27005124]\n",
      " [ 0.27005124]\n",
      " [ 0.27005124]\n",
      " [ 0.27005124]\n",
      " [ 0.27005124]\n",
      " [ 0.27005124]\n",
      " [ 0.27005124]\n",
      " [ 0.27005124]\n",
      " [ 0.27005124]\n",
      " [ 0.27005124]\n",
      " [ 0.27005124]\n",
      " [ 0.27005124]\n",
      " [ 0.27005124]\n",
      " [ 0.27005124]\n",
      " [ 0.27005124]\n",
      " [ 0.27005124]\n",
      " [ 0.27005124]\n",
      " [ 0.27005124]\n",
      " [ 0.27005124]\n",
      " [ 0.27005124]\n",
      " [ 0.27005124]\n",
      " [ 0.27005124]\n",
      " [ 0.27005124]\n",
      " [ 0.27005124]\n",
      " [ 0.27005124]\n",
      " [ 0.27005124]]\n"
     ]
    }
   ],
   "source": [
    "# here's an example of grabbing the output from some layer\n",
    "mask = slow_get_result_of_layer_id(layer_features, 'mask')\n",
    "azimith_out = slow_get_result_of_layer_id(layer_features, 'azimith_output')\n",
    "\n",
    "init = tf.global_variables_initializer()\n",
    "with tf.Session() as sess:\n",
    "    sess.run(init)\n",
    "    \n",
    "    # lol make all the variables some specific value\n",
    "    #variables = tf.get_collection(tf.GraphKeys.GLOBAL_VARIABLES)\n",
    "    #for var in variables:\n",
    "    #    var_val = np.arange(int(np.prod(var.shape))).reshape(var.shape) / int(np.prod(var.shape))        \n",
    "    #    sess.run(var.assign(var_val))\n",
    "\n",
    "    input_batch = np.ones(input_placeholder_for_gpus.shape)\n",
    "    target_batch = np.ones(targets_placeholder_for_gpus.shape)\n",
    "    out = sess.run(\n",
    "        azimith_out,\n",
    "        feed_dict={\n",
    "            input_placeholder_for_gpus: input_batch,\n",
    "            targets_placeholder_for_gpus: target_batch,\n",
    "            is_training_placeholder: True,\n",
    "            mask: np.ones((50, 1, 5, 16, 1)),\n",
    "        })\n",
    "    \n",
    "    print(out)"
   ]
  },
  {
   "cell_type": "code",
   "execution_count": 79,
   "metadata": {},
   "outputs": [],
   "source": [
    "from loss_functions import azimith_loss\n",
    "\n",
    "azimith_targets_placeholder = tf.placeholder(tf.float32, shape=(1, 1))\n",
    "azimith_preds_placeholder = tf.placeholder(tf.float32, shape=(1, 1))\n",
    "\n",
    "azimith_loss_ops = azimith_loss(azimith_targets_placeholder, azimith_preds_placeholder, 'sin_squared')"
   ]
  },
  {
   "cell_type": "code",
   "execution_count": 80,
   "metadata": {},
   "outputs": [
    {
     "name": "stdout",
     "output_type": "stream",
     "text": [
      "pred  0 \ttarget 60 \tloss 0.25\n",
      "pred  20 \ttarget 60 \tloss 0.116978\n",
      "pred  40 \ttarget 60 \tloss 0.0301537\n",
      "pred  60 \ttarget 60 \tloss 0.0\n",
      "pred  80 \ttarget 60 \tloss 0.0301537\n",
      "pred  100 \ttarget 60 \tloss 0.116978\n",
      "pred  120 \ttarget 60 \tloss 0.25\n",
      "pred  140 \ttarget 60 \tloss 0.413176\n",
      "pred  160 \ttarget 60 \tloss 0.586824\n",
      "pred  180 \ttarget 60 \tloss 0.75\n",
      "pred  200 \ttarget 60 \tloss 0.883022\n",
      "pred  220 \ttarget 60 \tloss 0.969846\n",
      "pred  240 \ttarget 60 \tloss 1.0\n",
      "pred  260 \ttarget 60 \tloss 0.969846\n",
      "pred  280 \ttarget 60 \tloss 0.883022\n",
      "pred  300 \ttarget 60 \tloss 0.75\n",
      "pred  320 \ttarget 60 \tloss 0.586824\n",
      "pred  340 \ttarget 60 \tloss 0.413176\n"
     ]
    }
   ],
   "source": [
    "with tf.Session() as sess:\n",
    "    \n",
    "    for i in range(18):\n",
    "        pred = i * 20\n",
    "        target = 60\n",
    "        azimith_loss_val = sess.run(\n",
    "             azimith_loss_ops, \n",
    "             {\n",
    "                 azimith_preds_placeholder: [[pred]],\n",
    "                 azimith_targets_placeholder: [[target]],\n",
    "             }\n",
    "         )\n",
    "        print('pred ', pred, '\\ttarget', target, '\\tloss', azimith_loss_val)"
   ]
  },
  {
   "cell_type": "code",
   "execution_count": 81,
   "metadata": {
    "scrolled": false
   },
   "outputs": [
    {
     "ename": "InvalidArgumentError",
     "evalue": "You must feed a value for placeholder tensor 'data-targets' with dtype int64 and shape [1,50,2]\n\t [[Node: data-targets = Placeholder[dtype=DT_INT64, shape=[1,50,2], _device=\"/job:localhost/replica:0/task:0/device:CPU:0\"]()]]\n\nCaused by op 'data-targets', defined at:\n  File \"/Users/jessica/miniconda3/envs/mlp/lib/python3.6/runpy.py\", line 193, in _run_module_as_main\n    \"__main__\", mod_spec)\n  File \"/Users/jessica/miniconda3/envs/mlp/lib/python3.6/runpy.py\", line 85, in _run_code\n    exec(code, run_globals)\n  File \"/Users/jessica/miniconda3/envs/mlp/lib/python3.6/site-packages/ipykernel_launcher.py\", line 16, in <module>\n    app.launch_new_instance()\n  File \"/Users/jessica/miniconda3/envs/mlp/lib/python3.6/site-packages/traitlets/config/application.py\", line 658, in launch_instance\n    app.start()\n  File \"/Users/jessica/miniconda3/envs/mlp/lib/python3.6/site-packages/ipykernel/kernelapp.py\", line 477, in start\n    ioloop.IOLoop.instance().start()\n  File \"/Users/jessica/miniconda3/envs/mlp/lib/python3.6/site-packages/zmq/eventloop/ioloop.py\", line 177, in start\n    super(ZMQIOLoop, self).start()\n  File \"/Users/jessica/miniconda3/envs/mlp/lib/python3.6/site-packages/tornado/ioloop.py\", line 888, in start\n    handler_func(fd_obj, events)\n  File \"/Users/jessica/miniconda3/envs/mlp/lib/python3.6/site-packages/tornado/stack_context.py\", line 277, in null_wrapper\n    return fn(*args, **kwargs)\n  File \"/Users/jessica/miniconda3/envs/mlp/lib/python3.6/site-packages/zmq/eventloop/zmqstream.py\", line 440, in _handle_events\n    self._handle_recv()\n  File \"/Users/jessica/miniconda3/envs/mlp/lib/python3.6/site-packages/zmq/eventloop/zmqstream.py\", line 472, in _handle_recv\n    self._run_callback(callback, msg)\n  File \"/Users/jessica/miniconda3/envs/mlp/lib/python3.6/site-packages/zmq/eventloop/zmqstream.py\", line 414, in _run_callback\n    callback(*args, **kwargs)\n  File \"/Users/jessica/miniconda3/envs/mlp/lib/python3.6/site-packages/tornado/stack_context.py\", line 277, in null_wrapper\n    return fn(*args, **kwargs)\n  File \"/Users/jessica/miniconda3/envs/mlp/lib/python3.6/site-packages/ipykernel/kernelbase.py\", line 283, in dispatcher\n    return self.dispatch_shell(stream, msg)\n  File \"/Users/jessica/miniconda3/envs/mlp/lib/python3.6/site-packages/ipykernel/kernelbase.py\", line 235, in dispatch_shell\n    handler(stream, idents, msg)\n  File \"/Users/jessica/miniconda3/envs/mlp/lib/python3.6/site-packages/ipykernel/kernelbase.py\", line 399, in execute_request\n    user_expressions, allow_stdin)\n  File \"/Users/jessica/miniconda3/envs/mlp/lib/python3.6/site-packages/ipykernel/ipkernel.py\", line 196, in do_execute\n    res = shell.run_cell(code, store_history=store_history, silent=silent)\n  File \"/Users/jessica/miniconda3/envs/mlp/lib/python3.6/site-packages/ipykernel/zmqshell.py\", line 533, in run_cell\n    return super(ZMQInteractiveShell, self).run_cell(*args, **kwargs)\n  File \"/Users/jessica/miniconda3/envs/mlp/lib/python3.6/site-packages/IPython/core/interactiveshell.py\", line 2698, in run_cell\n    interactivity=interactivity, compiler=compiler, result=result)\n  File \"/Users/jessica/miniconda3/envs/mlp/lib/python3.6/site-packages/IPython/core/interactiveshell.py\", line 2802, in run_ast_nodes\n    if self.run_code(code, result):\n  File \"/Users/jessica/miniconda3/envs/mlp/lib/python3.6/site-packages/IPython/core/interactiveshell.py\", line 2862, in run_code\n    exec(code_obj, self.user_global_ns, self.user_ns)\n  File \"<ipython-input-77-946c41629ab4>\", line 7, in <module>\n    lazy_batch_processor_pair = run.build_network(network_config)\n  File \"../scripts/runners/run_from_config.py\", line 184, in build_network\n    data_splits, input_placeholder_for_gpus, targets_placeholder_for_gpus = datasets_from_provider_name(rng, network_config)\n  File \"../scripts/runners/data_loader_wrapper.py\", line 71, in datasets_from_provider_name\n    'data-targets'\n  File \"/Users/jessica/miniconda3/envs/mlp/lib/python3.6/site-packages/tensorflow/python/ops/array_ops.py\", line 1599, in placeholder\n    return gen_array_ops._placeholder(dtype=dtype, shape=shape, name=name)\n  File \"/Users/jessica/miniconda3/envs/mlp/lib/python3.6/site-packages/tensorflow/python/ops/gen_array_ops.py\", line 3091, in _placeholder\n    \"Placeholder\", dtype=dtype, shape=shape, name=name)\n  File \"/Users/jessica/miniconda3/envs/mlp/lib/python3.6/site-packages/tensorflow/python/framework/op_def_library.py\", line 787, in _apply_op_helper\n    op_def=op_def)\n  File \"/Users/jessica/miniconda3/envs/mlp/lib/python3.6/site-packages/tensorflow/python/framework/ops.py\", line 2956, in create_op\n    op_def=op_def)\n  File \"/Users/jessica/miniconda3/envs/mlp/lib/python3.6/site-packages/tensorflow/python/framework/ops.py\", line 1470, in __init__\n    self._traceback = self._graph._extract_stack()  # pylint: disable=protected-access\n\nInvalidArgumentError (see above for traceback): You must feed a value for placeholder tensor 'data-targets' with dtype int64 and shape [1,50,2]\n\t [[Node: data-targets = Placeholder[dtype=DT_INT64, shape=[1,50,2], _device=\"/job:localhost/replica:0/task:0/device:CPU:0\"]()]]\n",
     "output_type": "error",
     "traceback": [
      "\u001b[0;31m---------------------------------------------------------------------------\u001b[0m",
      "\u001b[0;31mInvalidArgumentError\u001b[0m                      Traceback (most recent call last)",
      "\u001b[0;32m~/miniconda3/envs/mlp/lib/python3.6/site-packages/tensorflow/python/client/session.py\u001b[0m in \u001b[0;36m_do_call\u001b[0;34m(self, fn, *args)\u001b[0m\n\u001b[1;32m   1322\u001b[0m     \u001b[0;32mtry\u001b[0m\u001b[0;34m:\u001b[0m\u001b[0;34m\u001b[0m\u001b[0m\n\u001b[0;32m-> 1323\u001b[0;31m       \u001b[0;32mreturn\u001b[0m \u001b[0mfn\u001b[0m\u001b[0;34m(\u001b[0m\u001b[0;34m*\u001b[0m\u001b[0margs\u001b[0m\u001b[0;34m)\u001b[0m\u001b[0;34m\u001b[0m\u001b[0m\n\u001b[0m\u001b[1;32m   1324\u001b[0m     \u001b[0;32mexcept\u001b[0m \u001b[0merrors\u001b[0m\u001b[0;34m.\u001b[0m\u001b[0mOpError\u001b[0m \u001b[0;32mas\u001b[0m \u001b[0me\u001b[0m\u001b[0;34m:\u001b[0m\u001b[0;34m\u001b[0m\u001b[0m\n",
      "\u001b[0;32m~/miniconda3/envs/mlp/lib/python3.6/site-packages/tensorflow/python/client/session.py\u001b[0m in \u001b[0;36m_run_fn\u001b[0;34m(session, feed_dict, fetch_list, target_list, options, run_metadata)\u001b[0m\n\u001b[1;32m   1301\u001b[0m                                    \u001b[0mfeed_dict\u001b[0m\u001b[0;34m,\u001b[0m \u001b[0mfetch_list\u001b[0m\u001b[0;34m,\u001b[0m \u001b[0mtarget_list\u001b[0m\u001b[0;34m,\u001b[0m\u001b[0;34m\u001b[0m\u001b[0m\n\u001b[0;32m-> 1302\u001b[0;31m                                    status, run_metadata)\n\u001b[0m\u001b[1;32m   1303\u001b[0m \u001b[0;34m\u001b[0m\u001b[0m\n",
      "\u001b[0;32m~/miniconda3/envs/mlp/lib/python3.6/site-packages/tensorflow/python/framework/errors_impl.py\u001b[0m in \u001b[0;36m__exit__\u001b[0;34m(self, type_arg, value_arg, traceback_arg)\u001b[0m\n\u001b[1;32m    472\u001b[0m             \u001b[0mcompat\u001b[0m\u001b[0;34m.\u001b[0m\u001b[0mas_text\u001b[0m\u001b[0;34m(\u001b[0m\u001b[0mc_api\u001b[0m\u001b[0;34m.\u001b[0m\u001b[0mTF_Message\u001b[0m\u001b[0;34m(\u001b[0m\u001b[0mself\u001b[0m\u001b[0;34m.\u001b[0m\u001b[0mstatus\u001b[0m\u001b[0;34m.\u001b[0m\u001b[0mstatus\u001b[0m\u001b[0;34m)\u001b[0m\u001b[0;34m)\u001b[0m\u001b[0;34m,\u001b[0m\u001b[0;34m\u001b[0m\u001b[0m\n\u001b[0;32m--> 473\u001b[0;31m             c_api.TF_GetCode(self.status.status))\n\u001b[0m\u001b[1;32m    474\u001b[0m     \u001b[0;31m# Delete the underlying status object from memory otherwise it stays alive\u001b[0m\u001b[0;34m\u001b[0m\u001b[0;34m\u001b[0m\u001b[0m\n",
      "\u001b[0;31mInvalidArgumentError\u001b[0m: You must feed a value for placeholder tensor 'data-targets' with dtype int64 and shape [1,50,2]\n\t [[Node: data-targets = Placeholder[dtype=DT_INT64, shape=[1,50,2], _device=\"/job:localhost/replica:0/task:0/device:CPU:0\"]()]]",
      "\nDuring handling of the above exception, another exception occurred:\n",
      "\u001b[0;31mInvalidArgumentError\u001b[0m                      Traceback (most recent call last)",
      "\u001b[0;32m<ipython-input-81-6ceb62c7008a>\u001b[0m in \u001b[0;36m<module>\u001b[0;34m()\u001b[0m\n\u001b[1;32m      8\u001b[0m              {\n\u001b[1;32m      9\u001b[0m                  \u001b[0mazimith_preds_placeholder\u001b[0m\u001b[0;34m:\u001b[0m \u001b[0;34m[\u001b[0m\u001b[0;34m[\u001b[0m\u001b[0mpred\u001b[0m\u001b[0;34m]\u001b[0m\u001b[0;34m]\u001b[0m\u001b[0;34m,\u001b[0m\u001b[0;34m\u001b[0m\u001b[0m\n\u001b[0;32m---> 10\u001b[0;31m                  \u001b[0mazimith_targets_placeholder\u001b[0m\u001b[0;34m:\u001b[0m \u001b[0;34m[\u001b[0m\u001b[0;34m[\u001b[0m\u001b[0mtarget\u001b[0m\u001b[0;34m]\u001b[0m\u001b[0;34m]\u001b[0m\u001b[0;34m,\u001b[0m\u001b[0;34m\u001b[0m\u001b[0m\n\u001b[0m\u001b[1;32m     11\u001b[0m              }\n\u001b[1;32m     12\u001b[0m          )\n",
      "\u001b[0;32m~/miniconda3/envs/mlp/lib/python3.6/site-packages/tensorflow/python/client/session.py\u001b[0m in \u001b[0;36mrun\u001b[0;34m(self, fetches, feed_dict, options, run_metadata)\u001b[0m\n\u001b[1;32m    887\u001b[0m     \u001b[0;32mtry\u001b[0m\u001b[0;34m:\u001b[0m\u001b[0;34m\u001b[0m\u001b[0m\n\u001b[1;32m    888\u001b[0m       result = self._run(None, fetches, feed_dict, options_ptr,\n\u001b[0;32m--> 889\u001b[0;31m                          run_metadata_ptr)\n\u001b[0m\u001b[1;32m    890\u001b[0m       \u001b[0;32mif\u001b[0m \u001b[0mrun_metadata\u001b[0m\u001b[0;34m:\u001b[0m\u001b[0;34m\u001b[0m\u001b[0m\n\u001b[1;32m    891\u001b[0m         \u001b[0mproto_data\u001b[0m \u001b[0;34m=\u001b[0m \u001b[0mtf_session\u001b[0m\u001b[0;34m.\u001b[0m\u001b[0mTF_GetBuffer\u001b[0m\u001b[0;34m(\u001b[0m\u001b[0mrun_metadata_ptr\u001b[0m\u001b[0;34m)\u001b[0m\u001b[0;34m\u001b[0m\u001b[0m\n",
      "\u001b[0;32m~/miniconda3/envs/mlp/lib/python3.6/site-packages/tensorflow/python/client/session.py\u001b[0m in \u001b[0;36m_run\u001b[0;34m(self, handle, fetches, feed_dict, options, run_metadata)\u001b[0m\n\u001b[1;32m   1118\u001b[0m     \u001b[0;32mif\u001b[0m \u001b[0mfinal_fetches\u001b[0m \u001b[0;32mor\u001b[0m \u001b[0mfinal_targets\u001b[0m \u001b[0;32mor\u001b[0m \u001b[0;34m(\u001b[0m\u001b[0mhandle\u001b[0m \u001b[0;32mand\u001b[0m \u001b[0mfeed_dict_tensor\u001b[0m\u001b[0;34m)\u001b[0m\u001b[0;34m:\u001b[0m\u001b[0;34m\u001b[0m\u001b[0m\n\u001b[1;32m   1119\u001b[0m       results = self._do_run(handle, final_targets, final_fetches,\n\u001b[0;32m-> 1120\u001b[0;31m                              feed_dict_tensor, options, run_metadata)\n\u001b[0m\u001b[1;32m   1121\u001b[0m     \u001b[0;32melse\u001b[0m\u001b[0;34m:\u001b[0m\u001b[0;34m\u001b[0m\u001b[0m\n\u001b[1;32m   1122\u001b[0m       \u001b[0mresults\u001b[0m \u001b[0;34m=\u001b[0m \u001b[0;34m[\u001b[0m\u001b[0;34m]\u001b[0m\u001b[0;34m\u001b[0m\u001b[0m\n",
      "\u001b[0;32m~/miniconda3/envs/mlp/lib/python3.6/site-packages/tensorflow/python/client/session.py\u001b[0m in \u001b[0;36m_do_run\u001b[0;34m(self, handle, target_list, fetch_list, feed_dict, options, run_metadata)\u001b[0m\n\u001b[1;32m   1315\u001b[0m     \u001b[0;32mif\u001b[0m \u001b[0mhandle\u001b[0m \u001b[0;32mis\u001b[0m \u001b[0;32mNone\u001b[0m\u001b[0;34m:\u001b[0m\u001b[0;34m\u001b[0m\u001b[0m\n\u001b[1;32m   1316\u001b[0m       return self._do_call(_run_fn, self._session, feeds, fetches, targets,\n\u001b[0;32m-> 1317\u001b[0;31m                            options, run_metadata)\n\u001b[0m\u001b[1;32m   1318\u001b[0m     \u001b[0;32melse\u001b[0m\u001b[0;34m:\u001b[0m\u001b[0;34m\u001b[0m\u001b[0m\n\u001b[1;32m   1319\u001b[0m       \u001b[0;32mreturn\u001b[0m \u001b[0mself\u001b[0m\u001b[0;34m.\u001b[0m\u001b[0m_do_call\u001b[0m\u001b[0;34m(\u001b[0m\u001b[0m_prun_fn\u001b[0m\u001b[0;34m,\u001b[0m \u001b[0mself\u001b[0m\u001b[0;34m.\u001b[0m\u001b[0m_session\u001b[0m\u001b[0;34m,\u001b[0m \u001b[0mhandle\u001b[0m\u001b[0;34m,\u001b[0m \u001b[0mfeeds\u001b[0m\u001b[0;34m,\u001b[0m \u001b[0mfetches\u001b[0m\u001b[0;34m)\u001b[0m\u001b[0;34m\u001b[0m\u001b[0m\n",
      "\u001b[0;32m~/miniconda3/envs/mlp/lib/python3.6/site-packages/tensorflow/python/client/session.py\u001b[0m in \u001b[0;36m_do_call\u001b[0;34m(self, fn, *args)\u001b[0m\n\u001b[1;32m   1334\u001b[0m         \u001b[0;32mexcept\u001b[0m \u001b[0mKeyError\u001b[0m\u001b[0;34m:\u001b[0m\u001b[0;34m\u001b[0m\u001b[0m\n\u001b[1;32m   1335\u001b[0m           \u001b[0;32mpass\u001b[0m\u001b[0;34m\u001b[0m\u001b[0m\n\u001b[0;32m-> 1336\u001b[0;31m       \u001b[0;32mraise\u001b[0m \u001b[0mtype\u001b[0m\u001b[0;34m(\u001b[0m\u001b[0me\u001b[0m\u001b[0;34m)\u001b[0m\u001b[0;34m(\u001b[0m\u001b[0mnode_def\u001b[0m\u001b[0;34m,\u001b[0m \u001b[0mop\u001b[0m\u001b[0;34m,\u001b[0m \u001b[0mmessage\u001b[0m\u001b[0;34m)\u001b[0m\u001b[0;34m\u001b[0m\u001b[0m\n\u001b[0m\u001b[1;32m   1337\u001b[0m \u001b[0;34m\u001b[0m\u001b[0m\n\u001b[1;32m   1338\u001b[0m   \u001b[0;32mdef\u001b[0m \u001b[0m_extend_graph\u001b[0m\u001b[0;34m(\u001b[0m\u001b[0mself\u001b[0m\u001b[0;34m)\u001b[0m\u001b[0;34m:\u001b[0m\u001b[0;34m\u001b[0m\u001b[0m\n",
      "\u001b[0;31mInvalidArgumentError\u001b[0m: You must feed a value for placeholder tensor 'data-targets' with dtype int64 and shape [1,50,2]\n\t [[Node: data-targets = Placeholder[dtype=DT_INT64, shape=[1,50,2], _device=\"/job:localhost/replica:0/task:0/device:CPU:0\"]()]]\n\nCaused by op 'data-targets', defined at:\n  File \"/Users/jessica/miniconda3/envs/mlp/lib/python3.6/runpy.py\", line 193, in _run_module_as_main\n    \"__main__\", mod_spec)\n  File \"/Users/jessica/miniconda3/envs/mlp/lib/python3.6/runpy.py\", line 85, in _run_code\n    exec(code, run_globals)\n  File \"/Users/jessica/miniconda3/envs/mlp/lib/python3.6/site-packages/ipykernel_launcher.py\", line 16, in <module>\n    app.launch_new_instance()\n  File \"/Users/jessica/miniconda3/envs/mlp/lib/python3.6/site-packages/traitlets/config/application.py\", line 658, in launch_instance\n    app.start()\n  File \"/Users/jessica/miniconda3/envs/mlp/lib/python3.6/site-packages/ipykernel/kernelapp.py\", line 477, in start\n    ioloop.IOLoop.instance().start()\n  File \"/Users/jessica/miniconda3/envs/mlp/lib/python3.6/site-packages/zmq/eventloop/ioloop.py\", line 177, in start\n    super(ZMQIOLoop, self).start()\n  File \"/Users/jessica/miniconda3/envs/mlp/lib/python3.6/site-packages/tornado/ioloop.py\", line 888, in start\n    handler_func(fd_obj, events)\n  File \"/Users/jessica/miniconda3/envs/mlp/lib/python3.6/site-packages/tornado/stack_context.py\", line 277, in null_wrapper\n    return fn(*args, **kwargs)\n  File \"/Users/jessica/miniconda3/envs/mlp/lib/python3.6/site-packages/zmq/eventloop/zmqstream.py\", line 440, in _handle_events\n    self._handle_recv()\n  File \"/Users/jessica/miniconda3/envs/mlp/lib/python3.6/site-packages/zmq/eventloop/zmqstream.py\", line 472, in _handle_recv\n    self._run_callback(callback, msg)\n  File \"/Users/jessica/miniconda3/envs/mlp/lib/python3.6/site-packages/zmq/eventloop/zmqstream.py\", line 414, in _run_callback\n    callback(*args, **kwargs)\n  File \"/Users/jessica/miniconda3/envs/mlp/lib/python3.6/site-packages/tornado/stack_context.py\", line 277, in null_wrapper\n    return fn(*args, **kwargs)\n  File \"/Users/jessica/miniconda3/envs/mlp/lib/python3.6/site-packages/ipykernel/kernelbase.py\", line 283, in dispatcher\n    return self.dispatch_shell(stream, msg)\n  File \"/Users/jessica/miniconda3/envs/mlp/lib/python3.6/site-packages/ipykernel/kernelbase.py\", line 235, in dispatch_shell\n    handler(stream, idents, msg)\n  File \"/Users/jessica/miniconda3/envs/mlp/lib/python3.6/site-packages/ipykernel/kernelbase.py\", line 399, in execute_request\n    user_expressions, allow_stdin)\n  File \"/Users/jessica/miniconda3/envs/mlp/lib/python3.6/site-packages/ipykernel/ipkernel.py\", line 196, in do_execute\n    res = shell.run_cell(code, store_history=store_history, silent=silent)\n  File \"/Users/jessica/miniconda3/envs/mlp/lib/python3.6/site-packages/ipykernel/zmqshell.py\", line 533, in run_cell\n    return super(ZMQInteractiveShell, self).run_cell(*args, **kwargs)\n  File \"/Users/jessica/miniconda3/envs/mlp/lib/python3.6/site-packages/IPython/core/interactiveshell.py\", line 2698, in run_cell\n    interactivity=interactivity, compiler=compiler, result=result)\n  File \"/Users/jessica/miniconda3/envs/mlp/lib/python3.6/site-packages/IPython/core/interactiveshell.py\", line 2802, in run_ast_nodes\n    if self.run_code(code, result):\n  File \"/Users/jessica/miniconda3/envs/mlp/lib/python3.6/site-packages/IPython/core/interactiveshell.py\", line 2862, in run_code\n    exec(code_obj, self.user_global_ns, self.user_ns)\n  File \"<ipython-input-77-946c41629ab4>\", line 7, in <module>\n    lazy_batch_processor_pair = run.build_network(network_config)\n  File \"../scripts/runners/run_from_config.py\", line 184, in build_network\n    data_splits, input_placeholder_for_gpus, targets_placeholder_for_gpus = datasets_from_provider_name(rng, network_config)\n  File \"../scripts/runners/data_loader_wrapper.py\", line 71, in datasets_from_provider_name\n    'data-targets'\n  File \"/Users/jessica/miniconda3/envs/mlp/lib/python3.6/site-packages/tensorflow/python/ops/array_ops.py\", line 1599, in placeholder\n    return gen_array_ops._placeholder(dtype=dtype, shape=shape, name=name)\n  File \"/Users/jessica/miniconda3/envs/mlp/lib/python3.6/site-packages/tensorflow/python/ops/gen_array_ops.py\", line 3091, in _placeholder\n    \"Placeholder\", dtype=dtype, shape=shape, name=name)\n  File \"/Users/jessica/miniconda3/envs/mlp/lib/python3.6/site-packages/tensorflow/python/framework/op_def_library.py\", line 787, in _apply_op_helper\n    op_def=op_def)\n  File \"/Users/jessica/miniconda3/envs/mlp/lib/python3.6/site-packages/tensorflow/python/framework/ops.py\", line 2956, in create_op\n    op_def=op_def)\n  File \"/Users/jessica/miniconda3/envs/mlp/lib/python3.6/site-packages/tensorflow/python/framework/ops.py\", line 1470, in __init__\n    self._traceback = self._graph._extract_stack()  # pylint: disable=protected-access\n\nInvalidArgumentError (see above for traceback): You must feed a value for placeholder tensor 'data-targets' with dtype int64 and shape [1,50,2]\n\t [[Node: data-targets = Placeholder[dtype=DT_INT64, shape=[1,50,2], _device=\"/job:localhost/replica:0/task:0/device:CPU:0\"]()]]\n"
     ]
    }
   ],
   "source": [
    "with tf.Session() as sess:\n",
    "    \n",
    "    for i in range(18):\n",
    "        pred = i * 20\n",
    "        target = 60\n",
    "        losses = sess.run(\n",
    "            losses_ops, \n",
    "            {\n",
    "                targets_placeholder_for_gpus: [[pred]],\n",
    "                inputs_placeholder_for_gpus: [[target]],\n",
    "            }\n",
    "        )\n",
    "        print('loss ', losses)\n"
   ]
  },
  {
   "cell_type": "code",
   "execution_count": null,
   "metadata": {
    "collapsed": true
   },
   "outputs": [],
   "source": []
  }
 ],
 "metadata": {
  "kernelspec": {
   "display_name": "Python 3",
   "language": "python",
   "name": "python3"
  },
  "language_info": {
   "codemirror_mode": {
    "name": "ipython",
    "version": 3
   },
   "file_extension": ".py",
   "mimetype": "text/x-python",
   "name": "python",
   "nbconvert_exporter": "python",
   "pygments_lexer": "ipython3",
   "version": "3.6.2"
  }
 },
 "nbformat": 4,
 "nbformat_minor": 2
}
