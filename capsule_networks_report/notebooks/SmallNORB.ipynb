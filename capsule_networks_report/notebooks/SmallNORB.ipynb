{
 "cells": [
  {
   "cell_type": "markdown",
   "metadata": {},
   "source": [
    "# Converting SmallNORB into .ngz\n",
    "\n",
    "If you want to use SmallNORB, you shouldn't need to use this. This is just to convert raw smallnorb into the files needed by the data provider."
   ]
  },
  {
   "cell_type": "code",
   "execution_count": 1,
   "metadata": {
    "collapsed": true
   },
   "outputs": [],
   "source": [
    "import gzip\n",
    "import numpy as np\n",
    "import struct\n",
    "import matplotlib.pyplot as plt\n",
    "from collections import namedtuple"
   ]
  },
  {
   "cell_type": "code",
   "execution_count": 2,
   "metadata": {
    "collapsed": true
   },
   "outputs": [],
   "source": [
    "# Start by cd'ing into smallnorb and running `sh download.sh`\n",
    "ROOT_DIR = '../scripts/data_munging/smallnorb/data/'\n",
    "PREFIXES = {\n",
    "    'train': ROOT_DIR + 'smallnorb-5x46789x9x18x6x2x96x96-training-',\n",
    "    'test': ROOT_DIR + 'smallnorb-5x01235x9x18x6x2x96x96-testing-',\n",
    "}\n",
    "\n",
    "FILE_TYPES = ['info', 'cat', 'dat']\n",
    "\n",
    "SUFFIX = '.mat'"
   ]
  },
  {
   "cell_type": "code",
   "execution_count": 3,
   "metadata": {
    "collapsed": true
   },
   "outputs": [],
   "source": [
    "Header = namedtuple('Header', ['dtype', 'shape', 'tell', 'filename'])"
   ]
  },
  {
   "cell_type": "code",
   "execution_count": 4,
   "metadata": {},
   "outputs": [
    {
     "name": "stdout",
     "output_type": "stream",
     "text": [
      "(('train', 'info'), Header(dtype=<class 'numpy.int32'>, shape=[24300, 4], tell=20, filename='../scripts/data_munging/smallnorb/data/smallnorb-5x46789x9x18x6x2x96x96-training-info.mat'))\n",
      "(('train', 'cat'), Header(dtype=<class 'numpy.int32'>, shape=[24300], tell=20, filename='../scripts/data_munging/smallnorb/data/smallnorb-5x46789x9x18x6x2x96x96-training-cat.mat'))\n",
      "(('train', 'dat'), Header(dtype=<class 'numpy.uint8'>, shape=[24300, 2, 96, 96], tell=24, filename='../scripts/data_munging/smallnorb/data/smallnorb-5x46789x9x18x6x2x96x96-training-dat.mat'))\n",
      "(('test', 'info'), Header(dtype=<class 'numpy.int32'>, shape=[24300, 4], tell=20, filename='../scripts/data_munging/smallnorb/data/smallnorb-5x01235x9x18x6x2x96x96-testing-info.mat'))\n",
      "(('test', 'cat'), Header(dtype=<class 'numpy.int32'>, shape=[24300], tell=20, filename='../scripts/data_munging/smallnorb/data/smallnorb-5x01235x9x18x6x2x96x96-testing-cat.mat'))\n",
      "(('test', 'dat'), Header(dtype=<class 'numpy.uint8'>, shape=[24300, 2, 96, 96], tell=24, filename='../scripts/data_munging/smallnorb/data/smallnorb-5x01235x9x18x6x2x96x96-testing-dat.mat'))\n"
     ]
    }
   ],
   "source": [
    "def size_from_int_type(dtype):\n",
    "    return dtype(0).itemsize\n",
    "\n",
    "data_type_from_header = {\n",
    "    '1e3d4c55': np.uint8,\n",
    "    '1e3d4c54': np.int32,\n",
    "}\n",
    "\n",
    "data_desc_to_details = {}\n",
    "\n",
    "# Header magic numbers\n",
    "number_count = 6  # number of int32s to read\n",
    "size_of_i = 4  # bytes in an int32\n",
    "header_size = size_of_i * number_count\n",
    "\n",
    "for dataset, prefix in PREFIXES.items():\n",
    "    for filetype in FILE_TYPES:\n",
    "        filename = prefix + filetype + SUFFIX\n",
    "        with open(filename, 'rb') as f:\n",
    "            magic_num, = struct.unpack('i', f.read(size_of_i))\n",
    "            data_type = data_type_from_header[format(magic_num, '02x')]\n",
    "\n",
    "            ndim, = struct.unpack('i', f.read(size_of_i))\n",
    "            \n",
    "            # Read at least 3 ints, or however many dims there are\n",
    "            shape = []\n",
    "            for i in range(max(ndim, 3)):\n",
    "                shape_i, = struct.unpack('i', f.read(size_of_i))\n",
    "                shape.append(shape_i)\n",
    "            \n",
    "            # But then take at most n_dim dims\n",
    "            shape = shape[:ndim]\n",
    "    \n",
    "            data_desc_to_details[(dataset, filetype)] = Header(\n",
    "                dtype=data_type, \n",
    "                shape=shape, \n",
    "                tell=f.tell(),\n",
    "                filename=filename,\n",
    "            )\n",
    "        \n",
    "print('\\n'.join(map(str, data_desc_to_details.items())))"
   ]
  },
  {
   "cell_type": "code",
   "execution_count": 5,
   "metadata": {},
   "outputs": [
    {
     "name": "stdout",
     "output_type": "stream",
     "text": [
      "[[209 209 209 ..., 209 209 209]\n",
      " [209 209 209 ..., 209 209 209]\n",
      " [209 209 209 ..., 209 209 209]\n",
      " ..., \n",
      " [208 209 209 ..., 209 209 209]\n",
      " [209 209 209 ..., 209 209 209]\n",
      " [209 209 209 ..., 209 209 209]]\n"
     ]
    },
    {
     "data": {
      "image/png": "[encoded data removed]",
      "text/plain": [
       "<matplotlib.figure.Figure at 0x1135085c0>"
      ]
     },
     "metadata": {},
     "output_type": "display_data"
    }
   ],
   "source": [
    "# print an image\n",
    "\n",
    "header = data_desc_to_details[('train', 'dat')]\n",
    "\n",
    "im_x, im_y = header.shape[2:4]\n",
    "size_of_int = size_from_int_type(header.dtype)\n",
    "\n",
    "with open(header.filename, 'rb') as f:\n",
    "    f.seek(header.tell)  # skip the header\n",
    "    f.seek(header.tell + 96 * 96 * 10)  # skip the header\n",
    "    \n",
    "    data = np.fromfile(f, dtype=header.dtype, count=(im_x * im_y)).reshape(im_x, im_y)\n",
    "    data = np.array(data).reshape(im_x, im_y)\n",
    "    print(data)\n",
    "\n",
    "plt.imshow(data, cmap='gray')\n",
    "plt.show()"
   ]
  },
  {
   "cell_type": "code",
   "execution_count": 6,
   "metadata": {},
   "outputs": [
    {
     "name": "stdout",
     "output_type": "stream",
     "text": [
      "[[ 8  6  4  4]\n",
      " [ 8  2  6  4]\n",
      " [ 4  8 24  3]\n",
      " ..., \n",
      " [ 9  5 22  0]\n",
      " [ 6  6 10  2]\n",
      " [ 6  6 30  0]]\n"
     ]
    }
   ],
   "source": [
    "header = data_desc_to_details[('train', 'info')]\n",
    "\n",
    "size_of_int = size_from_int_type(header.dtype)\n",
    "\n",
    "with open(header.filename) as f:\n",
    "    f.seek(header.tell)  # skip the header\n",
    "    data = np.fromfile(f, dtype=header.dtype, count=np.prod(header.shape)).reshape(header.shape)\n",
    "print(data)"
   ]
  },
  {
   "cell_type": "markdown",
   "metadata": {},
   "source": [
    "## Save the npz"
   ]
  },
  {
   "cell_type": "code",
   "execution_count": 7,
   "metadata": {},
   "outputs": [
    {
     "name": "stdout",
     "output_type": "stream",
     "text": [
      "('train', 'info') (24300, 4)\n",
      "('train', 'cat') (24300,)\n",
      "('train', 'dat') (24300, 2, 96, 96)\n",
      "('test', 'info') (24300, 4)\n",
      "('test', 'cat') (24300,)\n",
      "('test', 'dat') (24300, 2, 96, 96)\n"
     ]
    }
   ],
   "source": [
    "loaded_data = {}\n",
    "\n",
    "for key in data_desc_to_details:\n",
    "    header = data_desc_to_details[key]\n",
    "\n",
    "    with open(header.filename) as f:\n",
    "        f.seek(header.tell)  # skip the header\n",
    "        data = np.fromfile(f, dtype=header.dtype, count=np.prod(header.shape)).reshape(header.shape)\n",
    "\n",
    "    loaded_data[key] = data\n",
    "    print(key, data.shape)"
   ]
  },
  {
   "cell_type": "code",
   "execution_count": 8,
   "metadata": {},
   "outputs": [
    {
     "name": "stdout",
     "output_type": "stream",
     "text": [
      "(9720,)\n",
      "(9720, 2, 96, 96)\n",
      "(14580,)\n",
      "(14580, 2, 96, 96)\n"
     ]
    }
   ],
   "source": [
    "# Split test data into validation and test set\n",
    "\n",
    "raw_cat_data = loaded_data[('test', 'cat')]   \n",
    "raw_info_data = loaded_data[('test', 'info')]\n",
    "raw_dat_data = loaded_data[('test', 'dat')]\n",
    "\n",
    "val_info = raw_info_data[raw_info_data[:, 0] >= 3]\n",
    "val_targets = raw_cat_data[raw_info_data[:, 0] >= 3]\n",
    "print(val_targets.shape)\n",
    "val_inputs = raw_dat_data[raw_info_data[:, 0] >= 3]\n",
    "print(val_inputs.shape)\n",
    "\n",
    "\n",
    "test_info = raw_info_data[raw_info_data[:, 0] < 3]\n",
    "test_targets = raw_cat_data[raw_info_data[:, 0] < 3]\n",
    "test_inputs = raw_dat_data[raw_info_data[:, 0] < 3]\n",
    "print(test_targets.shape)\n",
    "print(test_inputs.shape)"
   ]
  },
  {
   "cell_type": "code",
   "execution_count": 9,
   "metadata": {
    "scrolled": true
   },
   "outputs": [],
   "source": [
    "centered_per_item = {}\n",
    "with open('../scripts/data_munging/smallnorb/centered-azimith.txt') as f:\n",
    "    for line in f:\n",
    "        class_id, instance_id, centered = map(int, line.split(','))\n",
    "        centered_per_item[(class_id, instance_id)] = centered\n",
    "\n",
    "def center_given_azimith(azimith, center):\n",
    "    return ((36 + azimith - center) % 36) * 10\n",
    "\n",
    "  \n",
    "def get_centered_azimiths(info, cat):\n",
    "    return np.vstack(\n",
    "        (class_id, center_given_azimith(azimith, centered_per_item[class_id, instance]))\n",
    "        for (instance, _, azimith, _), class_id in zip(info, cat)\n",
    "    )\n",
    "\n",
    "train_inputs =  loaded_data[('train', 'dat')]\n",
    "train_info = loaded_data[('train', 'info')]\n",
    "train_targets = loaded_data[('train', 'cat')]\n",
    "\n",
    "mtl_train_targets = get_centered_azimiths(train_info, train_targets)    \n",
    "mtl_val_targets = get_centered_azimiths(val_info, val_targets)\n",
    "mtl_test_targets = get_centered_azimiths(test_info, test_targets)"
   ]
  },
  {
   "cell_type": "code",
   "execution_count": 10,
   "metadata": {},
   "outputs": [],
   "source": [
    "#np.savez_compressed('/Users/jessica/Downloads/' + 'smallnorb-mtl-20180309-train.npz', inputs=train_inputs, targets=mtl_train_targets)\n",
    "#np.savez_compressed('/Users/jessica/Downloads/' + 'smallnorb-mtl-20180309-valid.npz', inputs=val_inputs, targets=mtl_val_targets)\n",
    "#np.savez_compressed('/Users/jessica/Downloads/' + 'smallnorb-mtl-20180309-test.npz', inputs=test_inputs, targets=mtl_test_targets)"
   ]
  },
  {
   "cell_type": "code",
   "execution_count": 11,
   "metadata": {},
   "outputs": [
    {
     "name": "stdout",
     "output_type": "stream",
     "text": [
      "(48600, 2, 96, 96)\n",
      "(48600, 4)\n",
      "(48600,)\n",
      "(48600, 2)\n"
     ]
    }
   ],
   "source": [
    "all_dat = np.vstack((loaded_data[('train', 'dat')], loaded_data[('test', 'dat')]))\n",
    "all_info = np.vstack((loaded_data[('train', 'info')], loaded_data[('test', 'info')]))\n",
    "all_targets = np.hstack((loaded_data[('train', 'cat')], loaded_data[('test', 'cat')]))\n",
    "all_mtl_targets = np.vstack((mtl_train_targets, mtl_val_targets, mtl_test_targets))\n",
    "\n",
    "example_lookup = {}\n",
    "\n",
    "for i, (info, target) in enumerate(zip(all_info, all_targets)):\n",
    "    example_lookup[tuple(list(info) + [target])] = i\n",
    "\n",
    "print(all_dat.shape)\n",
    "print(all_info.shape)\n",
    "print(all_targets.shape)\n",
    "print(all_mtl_targets.shape)"
   ]
  },
  {
   "cell_type": "code",
   "execution_count": 12,
   "metadata": {
    "scrolled": false
   },
   "outputs": [
    {
     "data": {
      "application/vnd.jupyter.widget-view+json": {
       "model_id": "d28168dc6a644f8da0dd2905d61eb319",
       "version_major": 2,
       "version_minor": 0
      },
      "text/html": [
       "<p>Failed to display Jupyter Widget of type <code>interactive</code>.</p>\n",
       "<p>\n",
       "  If you're reading this message in Jupyter Notebook or JupyterLab, it may mean\n",
       "  that the widgets JavaScript is still loading. If this message persists, it\n",
       "  likely means that the widgets JavaScript library is either not installed or\n",
       "  not enabled. See the <a href=\"https://ipywidgets.readthedocs.io/en/stable/user_install.html\">Jupyter\n",
       "  Widgets Documentation</a> for setup instructions.\n",
       "</p>\n",
       "<p>\n",
       "  If you're reading this message in another notebook frontend (for example, a static\n",
       "  rendering on GitHub or <a href=\"https://nbviewer.jupyter.org/\">NBViewer</a>),\n",
       "  it may mean that your frontend doesn't currently support widgets.\n",
       "</p>\n"
      ],
      "text/plain": [
       "interactive(children=(IntSlider(value=2, description='category', max=4), IntSlider(value=4, description='instance', max=9), IntSlider(value=4, description='elevation', max=8), IntSlider(value=16, description='azimith', max=34, step=2), IntSlider(value=2, description='lighting', max=5), Checkbox(value=False, description='camera_b'), Output()), _dom_classes=('widget-interact',))"
      ]
     },
     "metadata": {},
     "output_type": "display_data"
    },
    {
     "data": {
      "text/plain": [
       "<function __main__.draw_image>"
      ]
     },
     "execution_count": 12,
     "metadata": {},
     "output_type": "execute_result"
    }
   ],
   "source": [
    "from ipywidgets import interact\n",
    "\n",
    "ix_to_label = [\n",
    "    'animals',\n",
    "    'human figures',\n",
    "    'airplanes',\n",
    "    'trucks',\n",
    "    'cars',\n",
    "]\n",
    "\n",
    "elevations = list(range(30, 72, 5))\n",
    "\n",
    "def draw_image(category, instance, elevation, azimith, lighting, camera_b):\n",
    "    camera = 1 if camera_b else 0\n",
    "    \n",
    "    example_id = (\n",
    "        instance,  # instance\n",
    "        elevation,\n",
    "        azimith, \n",
    "        lighting, \n",
    "        category,\n",
    "    )\n",
    "    \n",
    "    print(example_id)\n",
    "    example = example_lookup[example_id]\n",
    "    \n",
    "    plt.imshow(all_dat[example, camera, ::2, ::2], cmap='gray')\n",
    "    plt.show()\n",
    "    print(example)\n",
    "    print(ix_to_label[all_targets[example]])\n",
    "    print('example?', all_info[example][0])\n",
    "    print('elevation?', elevations[all_info[example][1]])\n",
    "    print('azimith?', all_info[example][2] * 10)\n",
    "    print('lighting?', all_info[example][3])   \n",
    "\n",
    "    print('centered azimith', all_mtl_targets[example][1])\n",
    "    print('offset',  centered_per_item[all_mtl_targets[example][0], all_info[example][0]])\n",
    "\n",
    "interact(\n",
    "    draw_image,\n",
    "    category=(0, 4),    \n",
    "    instance=(0, 9),\n",
    "    elevation=(0, 8),\n",
    "    azimith=(0, 34, 2),\n",
    "    lighting=(0, 5),\n",
    "    camera_b=False,    \n",
    ")"
   ]
  },
  {
   "cell_type": "code",
   "execution_count": 13,
   "metadata": {},
   "outputs": [
    {
     "data": {
      "application/vnd.jupyter.widget-view+json": {
       "model_id": "93fae5b9fd744d4f973f79374105200f",
       "version_major": 2,
       "version_minor": 0
      },
      "text/html": [
       "<p>Failed to display Jupyter Widget of type <code>interactive</code>.</p>\n",
       "<p>\n",
       "  If you're reading this message in Jupyter Notebook or JupyterLab, it may mean\n",
       "  that the widgets JavaScript is still loading. If this message persists, it\n",
       "  likely means that the widgets JavaScript library is either not installed or\n",
       "  not enabled. See the <a href=\"https://ipywidgets.readthedocs.io/en/stable/user_install.html\">Jupyter\n",
       "  Widgets Documentation</a> for setup instructions.\n",
       "</p>\n",
       "<p>\n",
       "  If you're reading this message in another notebook frontend (for example, a static\n",
       "  rendering on GitHub or <a href=\"https://nbviewer.jupyter.org/\">NBViewer</a>),\n",
       "  it may mean that your frontend doesn't currently support widgets.\n",
       "</p>\n"
      ],
      "text/plain": [
       "interactive(children=(IntSlider(value=4, description='instance', max=9), IntSlider(value=2, description='class_id', max=4), Output()), _dom_classes=('widget-interact',))"
      ]
     },
     "metadata": {},
     "output_type": "display_data"
    },
    {
     "data": {
      "text/plain": [
       "<function __main__.draw_image>"
      ]
     },
     "execution_count": 13,
     "metadata": {},
     "output_type": "execute_result"
    }
   ],
   "source": [
    "from ipywidgets import interact\n",
    "\n",
    "ix_to_label = [\n",
    "    'animals',\n",
    "    'human figures',\n",
    "    'airplanes',\n",
    "    'trucks',\n",
    "    'cars',\n",
    "]\n",
    "\n",
    "elevations = list(range(30, 72, 5))\n",
    "\n",
    "def draw_image(instance, class_id):\n",
    "    camera = 0\n",
    "        \n",
    "    example_id = (\n",
    "        instance,  # instance\n",
    "        0,\n",
    "        centered_per_item[class_id, instance], \n",
    "        0, \n",
    "        class_id,\n",
    "    )\n",
    "    \n",
    "    print(example_id)\n",
    "    example = example_lookup[example_id]\n",
    "    \n",
    "    plt.imshow(all_dat[example, camera, ::2, ::2], cmap='gray')\n",
    "    plt.show()\n",
    "\n",
    "\n",
    "interact(\n",
    "    draw_image,\n",
    "    instance=(0, 9),\n",
    "    class_id=(0, 4),\n",
    ")"
   ]
  },
  {
   "cell_type": "code",
   "execution_count": 14,
   "metadata": {
    "collapsed": true
   },
   "outputs": [],
   "source": [
    "NUM_PER_ROW = 5\n",
    "IMAGE_WIDTH = 96\n",
    "IMAGE_CHANNELS = 1\n",
    "BORDER_WIDTH = 1\n",
    "\n",
    "plt.figure(figsize=(10, 10))\n",
    "\n",
    "ix_to_label = [\n",
    "    'animals',\n",
    "    'human figures',\n",
    "    'airplanes',\n",
    "    'trucks',\n",
    "    'cars',\n",
    "]\n",
    "\n",
    "BATCH_SIZE = len(ix_to_label) * NUM_PER_ROW  # a heuristic so we pull down enough images\n",
    "\n",
    "train_inputs = loaded_data[('train', 'dat')]\n",
    "\n",
    "# This actually builds a the list of examples to show\n",
    "input_to_show = []\n",
    "for i, label in enumerate(ix_to_label):\n",
    "    row = []\n",
    "    for j in range(NUM_PER_ROW):\n",
    "        row.append(\n",
    "            train_inputs[example_lookup[(8, 3, (2 * j + 24) % 34, 2, i)]]\n",
    "        )\n",
    "    input_to_show.append(row)\n",
    "\n",
    "\n",
    "# create a canvas with NUM_PER_ROW examples per row, and a few columns\n",
    "canvas = np.zeros((\n",
    "    BORDER_WIDTH + (IMAGE_WIDTH + BORDER_WIDTH) * len(ix_to_label),\n",
    "    BORDER_WIDTH + (IMAGE_WIDTH + BORDER_WIDTH) * NUM_PER_ROW, \n",
    "))\n",
    "\n",
    "for label_i, examples in enumerate(input_to_show):\n",
    "    for example_i, (example, target) in enumerate(examples):\n",
    "        start_x = BORDER_WIDTH + label_i * (IMAGE_WIDTH + BORDER_WIDTH)\n",
    "        start_y = BORDER_WIDTH + example_i * (IMAGE_WIDTH + BORDER_WIDTH)\n",
    "        \n",
    "        canvas[\n",
    "            start_x:start_x + IMAGE_WIDTH, \n",
    "            start_y:start_y + IMAGE_WIDTH,\n",
    "        ] = example.reshape(IMAGE_CHANNELS, IMAGE_WIDTH, IMAGE_WIDTH)\n",
    "\n",
    "canvas = 1 - canvas\n",
    "plt.imshow(canvas, cmap='Greys')\n",
    "\n",
    "# Some layout things\n",
    "plt.axis('off')\n",
    "plt.tight_layout()\n",
    "plt.savefig('smallNORB.png')\n",
    "\n",
    "#plt.show()"
   ]
  },
  {
   "cell_type": "code",
   "execution_count": null,
   "metadata": {
    "collapsed": true
   },
   "outputs": [],
   "source": []
  }
 ],
 "metadata": {
  "kernelspec": {
   "display_name": "Python 3",
   "language": "python",
   "name": "python3"
  },
  "language_info": {
   "codemirror_mode": {
    "name": "ipython",
    "version": 3
   },
   "file_extension": ".py",
   "mimetype": "text/x-python",
   "name": "python",
   "nbconvert_exporter": "python",
   "pygments_lexer": "ipython3",
   "version": "3.6.2"
  }
 },
 "nbformat": 4,
 "nbformat_minor": 2
}
